{
 "cells": [
  {
   "cell_type": "code",
   "execution_count": 3,
   "metadata": {},
   "outputs": [
    {
     "name": "stderr",
     "output_type": "stream",
     "text": [
      "/Users/jake/Python/Obs_and_exp_data/.conda/lib/python3.11/site-packages/tqdm/auto.py:21: TqdmWarning: IProgress not found. Please update jupyter and ipywidgets. See https://ipywidgets.readthedocs.io/en/stable/user_install.html\n",
      "  from .autonotebook import tqdm as notebook_tqdm\n"
     ]
    }
   ],
   "source": [
    "import math\n",
    "import torch\n",
    "import gpytorch\n",
    "from matplotlib import pyplot as plt\n",
    "import pandas as pd\n",
    "from src.GP.data import *\n",
    "from src.GP.plotting import *\n",
    "from src.GP.GP import *\n",
    "from src.GP.utils import *\n",
    "from sklearn.datasets import make_regression\n",
    "import scienceplots\n",
    "\n",
    "plt.style.use('science')"
   ]
  },
  {
   "cell_type": "code",
   "execution_count": 4,
   "metadata": {},
   "outputs": [],
   "source": [
    "import yaml"
   ]
  },
  {
   "cell_type": "code",
   "execution_count": 54,
   "metadata": {},
   "outputs": [],
   "source": [
    "results_path = \"/Users/jake/Python/Obs_and_exp_data/results/IHDP_unif/12-05-15:29:21/results.metrics\""
   ]
  },
  {
   "cell_type": "code",
   "execution_count": 55,
   "metadata": {},
   "outputs": [
    {
     "data": {
      "text/html": [
       "<div>\n",
       "<style scoped>\n",
       "    .dataframe tbody tr th:only-of-type {\n",
       "        vertical-align: middle;\n",
       "    }\n",
       "\n",
       "    .dataframe tbody tr th {\n",
       "        vertical-align: top;\n",
       "    }\n",
       "\n",
       "    .dataframe thead th {\n",
       "        text-align: right;\n",
       "    }\n",
       "</style>\n",
       "<table border=\"1\" class=\"dataframe\">\n",
       "  <thead>\n",
       "    <tr style=\"text-align: right;\">\n",
       "      <th></th>\n",
       "      <th>Unif_COVERAGE_ID</th>\n",
       "      <th>Unif_COVERAGE_OD</th>\n",
       "      <th>Unif_Interval_width_ID</th>\n",
       "      <th>Unif_Interval_width_OD</th>\n",
       "    </tr>\n",
       "  </thead>\n",
       "  <tbody>\n",
       "    <tr>\n",
       "      <th>mean</th>\n",
       "      <td>1.0</td>\n",
       "      <td>1.0</td>\n",
       "      <td>21.333023</td>\n",
       "      <td>31.676391</td>\n",
       "    </tr>\n",
       "    <tr>\n",
       "      <th>std</th>\n",
       "      <td>0.0</td>\n",
       "      <td>0.0</td>\n",
       "      <td>0.632107</td>\n",
       "      <td>0.160371</td>\n",
       "    </tr>\n",
       "  </tbody>\n",
       "</table>\n",
       "</div>"
      ],
      "text/plain": [
       "      Unif_COVERAGE_ID  Unif_COVERAGE_OD  Unif_Interval_width_ID  \\\n",
       "mean               1.0               1.0               21.333023   \n",
       "std                0.0               0.0                0.632107   \n",
       "\n",
       "      Unif_Interval_width_OD  \n",
       "mean               31.676391  \n",
       "std                 0.160371  "
      ]
     },
     "execution_count": 55,
     "metadata": {},
     "output_type": "execute_result"
    }
   ],
   "source": [
    "with open(results_path, \"r\") as f:\n",
    "    results_dict = yaml.safe_load(f) \n",
    "\n",
    "results_dict.pop(\"fixed_MTGP\")\n",
    "\n",
    "df = pd.DataFrame(results_dict)\n",
    "# for model_name in results_dict:\n",
    "#     model_df = pd.DataFrame(results_dict[model_name])\n",
    "#     model_df[\"model\"] = model_name\n",
    "#     df = pd.concat([df,model_df])\n",
    "    # df = df[:len(df)]\n",
    "df.agg(['mean', 'std'])"
   ]
  },
  {
   "cell_type": "code",
   "execution_count": 56,
   "metadata": {},
   "outputs": [
    {
     "data": {
      "text/html": [
       "<div>\n",
       "<style scoped>\n",
       "    .dataframe tbody tr th:only-of-type {\n",
       "        vertical-align: middle;\n",
       "    }\n",
       "\n",
       "    .dataframe tbody tr th {\n",
       "        vertical-align: top;\n",
       "    }\n",
       "\n",
       "    .dataframe thead th {\n",
       "        text-align: right;\n",
       "    }\n",
       "</style>\n",
       "<table border=\"1\" class=\"dataframe\">\n",
       "  <thead>\n",
       "    <tr style=\"text-align: right;\">\n",
       "      <th></th>\n",
       "      <th>Unif_COVERAGE_ID</th>\n",
       "      <th>Unif_COVERAGE_OD</th>\n",
       "      <th>Unif_Interval_width_ID</th>\n",
       "      <th>Unif_Interval_width_OD</th>\n",
       "    </tr>\n",
       "  </thead>\n",
       "  <tbody>\n",
       "    <tr>\n",
       "      <th>std</th>\n",
       "      <td>0.0</td>\n",
       "      <td>0.0</td>\n",
       "      <td>0.123893</td>\n",
       "      <td>0.031433</td>\n",
       "    </tr>\n",
       "  </tbody>\n",
       "</table>\n",
       "</div>"
      ],
      "text/plain": [
       "     Unif_COVERAGE_ID  Unif_COVERAGE_OD  Unif_Interval_width_ID  \\\n",
       "std               0.0               0.0                0.123893   \n",
       "\n",
       "     Unif_Interval_width_OD  \n",
       "std                0.031433  "
      ]
     },
     "execution_count": 56,
     "metadata": {},
     "output_type": "execute_result"
    }
   ],
   "source": [
    "df.agg(['std'])*1.96/(100**0.5)"
   ]
  },
  {
   "cell_type": "code",
   "execution_count": 37,
   "metadata": {},
   "outputs": [],
   "source": [
    "results_path = \"results/IHDP_unif/12-06-13:25:47/results.metrics\""
   ]
  },
  {
   "cell_type": "code",
   "execution_count": 38,
   "metadata": {},
   "outputs": [
    {
     "data": {
      "text/html": [
       "<div>\n",
       "<style scoped>\n",
       "    .dataframe tbody tr th:only-of-type {\n",
       "        vertical-align: middle;\n",
       "    }\n",
       "\n",
       "    .dataframe tbody tr th {\n",
       "        vertical-align: top;\n",
       "    }\n",
       "\n",
       "    .dataframe thead tr th {\n",
       "        text-align: left;\n",
       "    }\n",
       "\n",
       "    .dataframe thead tr:last-of-type th {\n",
       "        text-align: right;\n",
       "    }\n",
       "</style>\n",
       "<table border=\"1\" class=\"dataframe\">\n",
       "  <thead>\n",
       "    <tr>\n",
       "      <th></th>\n",
       "      <th colspan=\"2\" halign=\"left\">COVERAGE_ID</th>\n",
       "      <th colspan=\"2\" halign=\"left\">COVERAGE_OD</th>\n",
       "      <th colspan=\"2\" halign=\"left\">Interval_width_ID</th>\n",
       "      <th colspan=\"2\" halign=\"left\">Interval_width_OD</th>\n",
       "      <th colspan=\"2\" halign=\"left\">MSE_ID</th>\n",
       "      <th colspan=\"2\" halign=\"left\">MSE_OD</th>\n",
       "    </tr>\n",
       "    <tr>\n",
       "      <th></th>\n",
       "      <th>mean</th>\n",
       "      <th>std</th>\n",
       "      <th>mean</th>\n",
       "      <th>std</th>\n",
       "      <th>mean</th>\n",
       "      <th>std</th>\n",
       "      <th>mean</th>\n",
       "      <th>std</th>\n",
       "      <th>mean</th>\n",
       "      <th>std</th>\n",
       "      <th>mean</th>\n",
       "      <th>std</th>\n",
       "    </tr>\n",
       "    <tr>\n",
       "      <th>model</th>\n",
       "      <th></th>\n",
       "      <th></th>\n",
       "      <th></th>\n",
       "      <th></th>\n",
       "      <th></th>\n",
       "      <th></th>\n",
       "      <th></th>\n",
       "      <th></th>\n",
       "      <th></th>\n",
       "      <th></th>\n",
       "      <th></th>\n",
       "      <th></th>\n",
       "    </tr>\n",
       "  </thead>\n",
       "  <tbody>\n",
       "    <tr>\n",
       "      <th>fixed_MTGP</th>\n",
       "      <td>0.82430</td>\n",
       "      <td>0.042491</td>\n",
       "      <td>0.821945</td>\n",
       "      <td>0.020181</td>\n",
       "      <td>2.629133</td>\n",
       "      <td>0.105520</td>\n",
       "      <td>3.667968</td>\n",
       "      <td>0.030061</td>\n",
       "      <td>1.098870</td>\n",
       "      <td>0.173653</td>\n",
       "      <td>1.911285</td>\n",
       "      <td>0.136365</td>\n",
       "    </tr>\n",
       "    <tr>\n",
       "      <th>standard_GP</th>\n",
       "      <td>0.76146</td>\n",
       "      <td>0.061750</td>\n",
       "      <td>0.805345</td>\n",
       "      <td>0.025139</td>\n",
       "      <td>3.394593</td>\n",
       "      <td>0.219437</td>\n",
       "      <td>3.805725</td>\n",
       "      <td>0.052183</td>\n",
       "      <td>2.133006</td>\n",
       "      <td>0.498819</td>\n",
       "      <td>2.152922</td>\n",
       "      <td>0.218266</td>\n",
       "    </tr>\n",
       "    <tr>\n",
       "      <th>trained_MTGP</th>\n",
       "      <td>0.83242</td>\n",
       "      <td>0.045646</td>\n",
       "      <td>0.963750</td>\n",
       "      <td>0.013143</td>\n",
       "      <td>2.963330</td>\n",
       "      <td>0.239213</td>\n",
       "      <td>7.760557</td>\n",
       "      <td>1.381410</td>\n",
       "      <td>1.342327</td>\n",
       "      <td>0.212152</td>\n",
       "      <td>2.228807</td>\n",
       "      <td>0.461481</td>\n",
       "    </tr>\n",
       "  </tbody>\n",
       "</table>\n",
       "</div>"
      ],
      "text/plain": [
       "             COVERAGE_ID           COVERAGE_OD           Interval_width_ID  \\\n",
       "                    mean       std        mean       std              mean   \n",
       "model                                                                        \n",
       "fixed_MTGP       0.82430  0.042491    0.821945  0.020181          2.629133   \n",
       "standard_GP      0.76146  0.061750    0.805345  0.025139          3.394593   \n",
       "trained_MTGP     0.83242  0.045646    0.963750  0.013143          2.963330   \n",
       "\n",
       "                       Interval_width_OD              MSE_ID            \\\n",
       "                   std              mean       std      mean       std   \n",
       "model                                                                    \n",
       "fixed_MTGP    0.105520          3.667968  0.030061  1.098870  0.173653   \n",
       "standard_GP   0.219437          3.805725  0.052183  2.133006  0.498819   \n",
       "trained_MTGP  0.239213          7.760557  1.381410  1.342327  0.212152   \n",
       "\n",
       "                MSE_OD            \n",
       "                  mean       std  \n",
       "model                             \n",
       "fixed_MTGP    1.911285  0.136365  \n",
       "standard_GP   2.152922  0.218266  \n",
       "trained_MTGP  2.228807  0.461481  "
      ]
     },
     "execution_count": 38,
     "metadata": {},
     "output_type": "execute_result"
    }
   ],
   "source": [
    "with open(results_path, \"r\") as f:\n",
    "    results_dict = yaml.safe_load(f) \n",
    "\n",
    "df = pd.DataFrame()\n",
    "for model_name in results_dict:\n",
    "    model_df = pd.DataFrame(results_dict[model_name])\n",
    "    model_df[\"model\"] = model_name\n",
    "    df = pd.concat([df,model_df])\n",
    "    # df = df[:len(df)]\n",
    "df.groupby(['model']).agg(['mean', 'std'])"
   ]
  },
  {
   "cell_type": "code",
   "execution_count": 39,
   "metadata": {},
   "outputs": [
    {
     "data": {
      "text/html": [
       "<div>\n",
       "<style scoped>\n",
       "    .dataframe tbody tr th:only-of-type {\n",
       "        vertical-align: middle;\n",
       "    }\n",
       "\n",
       "    .dataframe tbody tr th {\n",
       "        vertical-align: top;\n",
       "    }\n",
       "\n",
       "    .dataframe thead tr th {\n",
       "        text-align: left;\n",
       "    }\n",
       "\n",
       "    .dataframe thead tr:last-of-type th {\n",
       "        text-align: right;\n",
       "    }\n",
       "</style>\n",
       "<table border=\"1\" class=\"dataframe\">\n",
       "  <thead>\n",
       "    <tr>\n",
       "      <th></th>\n",
       "      <th>COVERAGE_ID</th>\n",
       "      <th>COVERAGE_OD</th>\n",
       "      <th>Interval_width_ID</th>\n",
       "      <th>Interval_width_OD</th>\n",
       "      <th>MSE_ID</th>\n",
       "      <th>MSE_OD</th>\n",
       "    </tr>\n",
       "    <tr>\n",
       "      <th></th>\n",
       "      <th>std</th>\n",
       "      <th>std</th>\n",
       "      <th>std</th>\n",
       "      <th>std</th>\n",
       "      <th>std</th>\n",
       "      <th>std</th>\n",
       "    </tr>\n",
       "    <tr>\n",
       "      <th>model</th>\n",
       "      <th></th>\n",
       "      <th></th>\n",
       "      <th></th>\n",
       "      <th></th>\n",
       "      <th></th>\n",
       "      <th></th>\n",
       "    </tr>\n",
       "  </thead>\n",
       "  <tbody>\n",
       "    <tr>\n",
       "      <th>fixed_MTGP</th>\n",
       "      <td>0.008328</td>\n",
       "      <td>0.003956</td>\n",
       "      <td>0.020682</td>\n",
       "      <td>0.005892</td>\n",
       "      <td>0.034036</td>\n",
       "      <td>0.026728</td>\n",
       "    </tr>\n",
       "    <tr>\n",
       "      <th>standard_GP</th>\n",
       "      <td>0.012103</td>\n",
       "      <td>0.004927</td>\n",
       "      <td>0.043010</td>\n",
       "      <td>0.010228</td>\n",
       "      <td>0.097769</td>\n",
       "      <td>0.042780</td>\n",
       "    </tr>\n",
       "    <tr>\n",
       "      <th>trained_MTGP</th>\n",
       "      <td>0.008947</td>\n",
       "      <td>0.002576</td>\n",
       "      <td>0.046886</td>\n",
       "      <td>0.270756</td>\n",
       "      <td>0.041582</td>\n",
       "      <td>0.090450</td>\n",
       "    </tr>\n",
       "  </tbody>\n",
       "</table>\n",
       "</div>"
      ],
      "text/plain": [
       "             COVERAGE_ID COVERAGE_OD Interval_width_ID Interval_width_OD  \\\n",
       "                     std         std               std               std   \n",
       "model                                                                      \n",
       "fixed_MTGP      0.008328    0.003956          0.020682          0.005892   \n",
       "standard_GP     0.012103    0.004927          0.043010          0.010228   \n",
       "trained_MTGP    0.008947    0.002576          0.046886          0.270756   \n",
       "\n",
       "                MSE_ID    MSE_OD  \n",
       "                   std       std  \n",
       "model                             \n",
       "fixed_MTGP    0.034036  0.026728  \n",
       "standard_GP   0.097769  0.042780  \n",
       "trained_MTGP  0.041582  0.090450  "
      ]
     },
     "execution_count": 39,
     "metadata": {},
     "output_type": "execute_result"
    }
   ],
   "source": [
    "df.groupby(['model']).agg(['std'])*1.96/(100**0.5)"
   ]
  },
  {
   "cell_type": "code",
   "execution_count": 12,
   "metadata": {},
   "outputs": [
    {
     "data": {
      "text/plain": [
       "tensor([15.1743])"
      ]
     },
     "execution_count": 12,
     "metadata": {},
     "output_type": "execute_result"
    }
   ],
   "source": [
    "tau = 0.00001\n",
    "r = 1\n",
    "d= 10 \n",
    "(2*d*torch.log(torch.tensor([1+r/tau])))**0.5"
   ]
  },
  {
   "cell_type": "code",
   "execution_count": 13,
   "metadata": {},
   "outputs": [
    {
     "data": {
      "text/html": [
       "<div>\n",
       "<style scoped>\n",
       "    .dataframe tbody tr th:only-of-type {\n",
       "        vertical-align: middle;\n",
       "    }\n",
       "\n",
       "    .dataframe tbody tr th {\n",
       "        vertical-align: top;\n",
       "    }\n",
       "\n",
       "    .dataframe thead tr th {\n",
       "        text-align: left;\n",
       "    }\n",
       "\n",
       "    .dataframe thead tr:last-of-type th {\n",
       "        text-align: right;\n",
       "    }\n",
       "</style>\n",
       "<table border=\"1\" class=\"dataframe\">\n",
       "  <thead>\n",
       "    <tr>\n",
       "      <th></th>\n",
       "      <th>COVERAGE_ID</th>\n",
       "      <th>COVERAGE_OD</th>\n",
       "      <th>Interval_width_ID</th>\n",
       "      <th>Interval_width_OD</th>\n",
       "      <th>MSE_ID</th>\n",
       "      <th>MSE_OD</th>\n",
       "    </tr>\n",
       "    <tr>\n",
       "      <th></th>\n",
       "      <th>std</th>\n",
       "      <th>std</th>\n",
       "      <th>std</th>\n",
       "      <th>std</th>\n",
       "      <th>std</th>\n",
       "      <th>std</th>\n",
       "    </tr>\n",
       "    <tr>\n",
       "      <th>model</th>\n",
       "      <th></th>\n",
       "      <th></th>\n",
       "      <th></th>\n",
       "      <th></th>\n",
       "      <th></th>\n",
       "      <th></th>\n",
       "    </tr>\n",
       "  </thead>\n",
       "  <tbody>\n",
       "    <tr>\n",
       "      <th>fixed_MTGP</th>\n",
       "      <td>0.012214</td>\n",
       "      <td>0.008945</td>\n",
       "      <td>0.032626</td>\n",
       "      <td>0.008515</td>\n",
       "      <td>0.080052</td>\n",
       "      <td>0.089073</td>\n",
       "    </tr>\n",
       "    <tr>\n",
       "      <th>standard_GP</th>\n",
       "      <td>0.014743</td>\n",
       "      <td>0.010261</td>\n",
       "      <td>0.036902</td>\n",
       "      <td>0.008816</td>\n",
       "      <td>0.285308</td>\n",
       "      <td>0.133742</td>\n",
       "    </tr>\n",
       "    <tr>\n",
       "      <th>trained_MTGP</th>\n",
       "      <td>0.020027</td>\n",
       "      <td>0.014029</td>\n",
       "      <td>0.090410</td>\n",
       "      <td>0.339034</td>\n",
       "      <td>0.165863</td>\n",
       "      <td>0.650390</td>\n",
       "    </tr>\n",
       "  </tbody>\n",
       "</table>\n",
       "</div>"
      ],
      "text/plain": [
       "             COVERAGE_ID COVERAGE_OD Interval_width_ID Interval_width_OD  \\\n",
       "                     std         std               std               std   \n",
       "model                                                                      \n",
       "fixed_MTGP      0.012214    0.008945          0.032626          0.008515   \n",
       "standard_GP     0.014743    0.010261          0.036902          0.008816   \n",
       "trained_MTGP    0.020027    0.014029          0.090410          0.339034   \n",
       "\n",
       "                MSE_ID    MSE_OD  \n",
       "                   std       std  \n",
       "model                             \n",
       "fixed_MTGP    0.080052  0.089073  \n",
       "standard_GP   0.285308  0.133742  \n",
       "trained_MTGP  0.165863  0.650390  "
      ]
     },
     "execution_count": 13,
     "metadata": {},
     "output_type": "execute_result"
    }
   ],
   "source": [
    "df.groupby(['model']).agg(['std'])*1.96/(100**0.5)"
   ]
  },
  {
   "cell_type": "code",
   "execution_count": 14,
   "metadata": {},
   "outputs": [],
   "source": [
    "fixed_MTGP_df = pd.DataFrame(results_dict[\"fixed_MTGP\"])\n",
    "trained_MTGP_df = pd.DataFrame(results_dict[\"trained_MTGP\"])"
   ]
  },
  {
   "cell_type": "code",
   "execution_count": 15,
   "metadata": {},
   "outputs": [
    {
     "data": {
      "text/html": [
       "<div>\n",
       "<style scoped>\n",
       "    .dataframe tbody tr th:only-of-type {\n",
       "        vertical-align: middle;\n",
       "    }\n",
       "\n",
       "    .dataframe tbody tr th {\n",
       "        vertical-align: top;\n",
       "    }\n",
       "\n",
       "    .dataframe thead th {\n",
       "        text-align: right;\n",
       "    }\n",
       "</style>\n",
       "<table border=\"1\" class=\"dataframe\">\n",
       "  <thead>\n",
       "    <tr style=\"text-align: right;\">\n",
       "      <th></th>\n",
       "      <th>COVERAGE_ID</th>\n",
       "      <th>COVERAGE_OD</th>\n",
       "      <th>Interval_width_ID</th>\n",
       "      <th>Interval_width_OD</th>\n",
       "      <th>MSE_ID</th>\n",
       "      <th>MSE_OD</th>\n",
       "    </tr>\n",
       "  </thead>\n",
       "  <tbody>\n",
       "    <tr>\n",
       "      <th>mean</th>\n",
       "      <td>0.553520</td>\n",
       "      <td>0.728400</td>\n",
       "      <td>2.120775</td>\n",
       "      <td>3.544862</td>\n",
       "      <td>2.026092</td>\n",
       "      <td>2.532377</td>\n",
       "    </tr>\n",
       "    <tr>\n",
       "      <th>std</th>\n",
       "      <td>0.062317</td>\n",
       "      <td>0.045636</td>\n",
       "      <td>0.166460</td>\n",
       "      <td>0.043441</td>\n",
       "      <td>0.408426</td>\n",
       "      <td>0.454454</td>\n",
       "    </tr>\n",
       "  </tbody>\n",
       "</table>\n",
       "</div>"
      ],
      "text/plain": [
       "      COVERAGE_ID  COVERAGE_OD  Interval_width_ID  Interval_width_OD  \\\n",
       "mean     0.553520     0.728400           2.120775           3.544862   \n",
       "std      0.062317     0.045636           0.166460           0.043441   \n",
       "\n",
       "        MSE_ID    MSE_OD  \n",
       "mean  2.026092  2.532377  \n",
       "std   0.408426  0.454454  "
      ]
     },
     "execution_count": 15,
     "metadata": {},
     "output_type": "execute_result"
    }
   ],
   "source": [
    "fixed_MTGP_df.agg(['mean', 'std'])"
   ]
  },
  {
   "cell_type": "code",
   "execution_count": 16,
   "metadata": {},
   "outputs": [
    {
     "data": {
      "text/html": [
       "<div>\n",
       "<style scoped>\n",
       "    .dataframe tbody tr th:only-of-type {\n",
       "        vertical-align: middle;\n",
       "    }\n",
       "\n",
       "    .dataframe tbody tr th {\n",
       "        vertical-align: top;\n",
       "    }\n",
       "\n",
       "    .dataframe thead th {\n",
       "        text-align: right;\n",
       "    }\n",
       "</style>\n",
       "<table border=\"1\" class=\"dataframe\">\n",
       "  <thead>\n",
       "    <tr style=\"text-align: right;\">\n",
       "      <th></th>\n",
       "      <th>COVERAGE_ID</th>\n",
       "      <th>COVERAGE_OD</th>\n",
       "      <th>Interval_width_ID</th>\n",
       "      <th>Interval_width_OD</th>\n",
       "      <th>MSE_ID</th>\n",
       "      <th>MSE_OD</th>\n",
       "    </tr>\n",
       "  </thead>\n",
       "  <tbody>\n",
       "    <tr>\n",
       "      <th>mean</th>\n",
       "      <td>0.687080</td>\n",
       "      <td>0.870915</td>\n",
       "      <td>3.166123</td>\n",
       "      <td>6.329583</td>\n",
       "      <td>2.562494</td>\n",
       "      <td>4.017048</td>\n",
       "    </tr>\n",
       "    <tr>\n",
       "      <th>std</th>\n",
       "      <td>0.102176</td>\n",
       "      <td>0.071574</td>\n",
       "      <td>0.461274</td>\n",
       "      <td>1.729765</td>\n",
       "      <td>0.846241</td>\n",
       "      <td>3.318317</td>\n",
       "    </tr>\n",
       "  </tbody>\n",
       "</table>\n",
       "</div>"
      ],
      "text/plain": [
       "      COVERAGE_ID  COVERAGE_OD  Interval_width_ID  Interval_width_OD  \\\n",
       "mean     0.687080     0.870915           3.166123           6.329583   \n",
       "std      0.102176     0.071574           0.461274           1.729765   \n",
       "\n",
       "        MSE_ID    MSE_OD  \n",
       "mean  2.562494  4.017048  \n",
       "std   0.846241  3.318317  "
      ]
     },
     "execution_count": 16,
     "metadata": {},
     "output_type": "execute_result"
    }
   ],
   "source": [
    "trained_MTGP_df.agg(['mean', 'std'])"
   ]
  },
  {
   "cell_type": "code",
   "execution_count": 17,
   "metadata": {},
   "outputs": [],
   "source": [
    "fixed_MTGP_df[\"model\"] = \"fixed_MTGP\"\n",
    "trained_MTGP_df[\"model\"] = \"trained_MTGP\""
   ]
  },
  {
   "cell_type": "code",
   "execution_count": 18,
   "metadata": {},
   "outputs": [],
   "source": [
    "result_df = pd.concat([fixed_MTGP_df,trained_MTGP_df])"
   ]
  },
  {
   "cell_type": "code",
   "execution_count": 19,
   "metadata": {},
   "outputs": [],
   "source": [
    "cfoundeded_func_plot = lambda X,T: 1+T+X[:,0]+2*T*X[:,0]+0.5*X[:,0]**2+0.75*T*X[:,0]**2+2*(T-0.5)*X[:,0]**2\n",
    "uncfoundeded_func_plot = lambda X,T: 1+T+X[:,0]+2*T*X[:,0]+0.5*X[:,0]**2+0.75*T*X[:,0]**2\n",
    "\n",
    "plot_outcome_funcs = outcome_funcs(cfounded_func=cfoundeded_func_plot,\n",
    "              uncfounded_func = uncfoundeded_func_plot)\n",
    "\n",
    "cfoundeded_CATE_func = lambda X,T: cfoundeded_func_plot(X,1) - cfoundeded_func_plot(X,0)\n",
    "\n",
    "T_prop = 0.5\n",
    "n_samples_exp = 2000\n",
    "n_samples_obs = 1000\n",
    "d = 25"
   ]
  },
  {
   "cell_type": "code",
   "execution_count": 20,
   "metadata": {},
   "outputs": [],
   "source": [
    "exp_data,obs_data,outcome_funcs_GP = get_train_data_GP(plot_outcome_funcs ,\n",
    "                         n_samples_exp = n_samples_exp,n_samples_obs = n_samples_obs, \n",
    "                         exp_range = (-1,1),obs_range = (-3,3),\n",
    "                         T_prop = T_prop,sigma_noise=0.5,kernel=\"RFF\",num_samples_RFF=1000,d=d,sklearn_gen=True)"
   ]
  },
  {
   "cell_type": "code",
   "execution_count": 21,
   "metadata": {},
   "outputs": [],
   "source": [
    "pseudo_data = get_pseudo_outcome_data(exp_data,T_prop=T_prop)\n",
    "pseudo_data_adjusted = adjust_data(pseudo_data,cfoundeded_CATE_func)"
   ]
  },
  {
   "cell_type": "code",
   "execution_count": 22,
   "metadata": {},
   "outputs": [],
   "source": [
    "CATE_GAP_func = return_CATE_GAP(outcome_funcs_GP)"
   ]
  },
  {
   "cell_type": "code",
   "execution_count": 23,
   "metadata": {},
   "outputs": [
    {
     "data": {
      "text/plain": [
       "GaussianLikelihood(\n",
       "  (noise_covar): HomoskedasticNoise(\n",
       "    (raw_noise_constraint): GreaterThan(1.000E-04)\n",
       "  )\n",
       ")"
      ]
     },
     "execution_count": 23,
     "metadata": {},
     "output_type": "execute_result"
    }
   ],
   "source": [
    "likelihood = gpytorch.likelihoods.GaussianLikelihood()\n",
    "\n",
    "model_fixed = FixedPseudoOutcome_MultitaskGPModel((pseudo_data_adjusted.X, pseudo_data_adjusted.T), pseudo_data_adjusted.Y, likelihood,p_score=T_prop,Train=False)\n",
    "\n",
    "model_fixed.covar_module_nuisance.lengthscale = 0.5\n",
    "model_fixed.covar_module_CATE.lengthscale = 100\n",
    "\n",
    "model_fixed.train()\n",
    "likelihood.train()\n",
    "\n",
    "# Use the adam optimizer\n",
    "optimizer = torch.optim.Adam(model_fixed.parameters(), lr=0.1)  # Includes GaussianLikelihood parameters\n",
    "\n",
    "# \"Loss\" for GPs - the marginal log likelihood\n",
    "mll = gpytorch.mlls.ExactMarginalLogLikelihood(likelihood, model_fixed)\n",
    "\n",
    "# for i in range(training_iterations):\n",
    "#     optimizer.zero_grad()\n",
    "#     output = model_fixed(pseudo_data_adjusted.X, pseudo_data_adjusted.T)\n",
    "#     loss = -mll(output, pseudo_data_adjusted.Y)\n",
    "#     loss.backward(retain_graph=True)\n",
    "#     print('Iter %d/50 - Loss: %.3f' % (i + 1, loss.item()))\n",
    "#     optimizer.step()\n",
    "#     # # loss.zero_grad()\n",
    "\n",
    "\n",
    "model_fixed.eval()\n",
    "likelihood.eval()"
   ]
  },
  {
   "cell_type": "code",
   "execution_count": 24,
   "metadata": {},
   "outputs": [
    {
     "data": {
      "text/plain": [
       "tensor([[0.5000]], grad_fn=<SoftplusBackward0>)"
      ]
     },
     "execution_count": 24,
     "metadata": {},
     "output_type": "execute_result"
    }
   ],
   "source": [
    "model_fixed.covar_module_nuisance.lengthscale"
   ]
  },
  {
   "cell_type": "code",
   "execution_count": 25,
   "metadata": {},
   "outputs": [
    {
     "data": {
      "text/plain": [
       "tensor([[100.]], grad_fn=<SoftplusBackward0>)"
      ]
     },
     "execution_count": 25,
     "metadata": {},
     "output_type": "execute_result"
    }
   ],
   "source": [
    "model_fixed.covar_module_CATE.lengthscale"
   ]
  },
  {
   "cell_type": "code",
   "execution_count": 26,
   "metadata": {},
   "outputs": [
    {
     "name": "stdout",
     "output_type": "stream",
     "text": [
      "Parameter name: likelihood.noise_covar.raw_noise           value = 0.0\n",
      "Parameter name: mean_module.raw_constant                   value = 0.0\n",
      "Parameter name: covar_module_CATE.raw_lengthscale          value = 100.0\n",
      "Parameter name: covar_module_nuisance.raw_lengthscale      value = -0.4327521324157715\n"
     ]
    }
   ],
   "source": [
    "for param_name, param in model_fixed.named_parameters():\n",
    "    if param.numel() == 1:\n",
    "        print(f'Parameter name: {param_name:42} value = {param.item()}')"
   ]
  },
  {
   "cell_type": "code",
   "execution_count": 27,
   "metadata": {},
   "outputs": [
    {
     "data": {
      "text/plain": [
       "tensor([[0.5000]], grad_fn=<SoftplusBackward0>)"
      ]
     },
     "execution_count": 27,
     "metadata": {},
     "output_type": "execute_result"
    }
   ],
   "source": [
    "model_fixed.covar_module_nuisance.lengthscale"
   ]
  },
  {
   "cell_type": "code",
   "execution_count": 28,
   "metadata": {},
   "outputs": [],
   "source": [
    "X_range_exp = (-1,1)"
   ]
  },
  {
   "cell_type": "code",
   "execution_count": 29,
   "metadata": {},
   "outputs": [],
   "source": [
    "X_in_dist = (X_range_exp[1] - X_range_exp[0]) * torch.rand((5000,d)) + X_range_exp[0]"
   ]
  },
  {
   "cell_type": "code",
   "execution_count": 30,
   "metadata": {},
   "outputs": [
    {
     "data": {
      "text/plain": [
       "RBFKernel(\n",
       "  (raw_lengthscale_constraint): Positive()\n",
       ")"
      ]
     },
     "execution_count": 30,
     "metadata": {},
     "output_type": "execute_result"
    }
   ],
   "source": [
    "model_fixed.covar_module_CATE"
   ]
  },
  {
   "cell_type": "code",
   "execution_count": 31,
   "metadata": {},
   "outputs": [
    {
     "name": "stderr",
     "output_type": "stream",
     "text": [
      "/Users/jake/Python/Obs_and_exp_data/.conda/lib/python3.11/site-packages/linear_operator/utils/interpolation.py:71: UserWarning: torch.sparse.SparseTensor(indices, values, shape, *, device=) is deprecated.  Please use torch.sparse_coo_tensor(indices, values, shape, dtype=, device=). (Triggered internally at /Users/runner/work/_temp/anaconda/conda-bld/pytorch_1724788636145/work/torch/csrc/utils/tensor_new.cpp:643.)\n",
      "  summing_matrix = cls(summing_matrix_indices, summing_matrix_values, size)\n"
     ]
    },
    {
     "data": {
      "text/plain": [
       "tensor([ 0.0182,  0.0038,  0.0025,  ..., -0.0210, -0.0086, -0.0138],\n",
       "       grad_fn=<ViewBackward0>)"
      ]
     },
     "execution_count": 31,
     "metadata": {},
     "output_type": "execute_result"
    }
   ],
   "source": [
    "model_fixed(X_in_dist,torch.ones(X_in_dist.shape[0])).mean"
   ]
  },
  {
   "cell_type": "code",
   "execution_count": 32,
   "metadata": {},
   "outputs": [
    {
     "ename": "KeyboardInterrupt",
     "evalue": "",
     "output_type": "error",
     "traceback": [
      "\u001b[0;31m---------------------------------------------------------------------------\u001b[0m",
      "\u001b[0;31mKeyboardInterrupt\u001b[0m                         Traceback (most recent call last)",
      "Cell \u001b[0;32mIn[32], line 1\u001b[0m\n\u001b[0;32m----> 1\u001b[0m \u001b[43mmodel_fixed\u001b[49m\u001b[43m(\u001b[49m\u001b[43mX_in_dist\u001b[49m\u001b[43m,\u001b[49m\u001b[43mtorch\u001b[49m\u001b[38;5;241;43m.\u001b[39;49m\u001b[43mzeros\u001b[49m\u001b[43m(\u001b[49m\u001b[43mX_in_dist\u001b[49m\u001b[38;5;241;43m.\u001b[39;49m\u001b[43mshape\u001b[49m\u001b[43m[\u001b[49m\u001b[38;5;241;43m0\u001b[39;49m\u001b[43m]\u001b[49m\u001b[43m)\u001b[49m\u001b[43m)\u001b[49m\u001b[38;5;241m.\u001b[39mmean\n",
      "File \u001b[0;32m~/Python/Obs_and_exp_data/.conda/lib/python3.11/site-packages/gpytorch/models/exact_gp.py:333\u001b[0m, in \u001b[0;36mExactGP.__call__\u001b[0;34m(self, *args, **kwargs)\u001b[0m\n\u001b[1;32m    328\u001b[0m \u001b[38;5;66;03m# Make the prediction\u001b[39;00m\n\u001b[1;32m    329\u001b[0m \u001b[38;5;28;01mwith\u001b[39;00m settings\u001b[38;5;241m.\u001b[39mcg_tolerance(settings\u001b[38;5;241m.\u001b[39meval_cg_tolerance\u001b[38;5;241m.\u001b[39mvalue()):\n\u001b[1;32m    330\u001b[0m     (\n\u001b[1;32m    331\u001b[0m         predictive_mean,\n\u001b[1;32m    332\u001b[0m         predictive_covar,\n\u001b[0;32m--> 333\u001b[0m     ) \u001b[38;5;241m=\u001b[39m \u001b[38;5;28;43mself\u001b[39;49m\u001b[38;5;241;43m.\u001b[39;49m\u001b[43mprediction_strategy\u001b[49m\u001b[38;5;241;43m.\u001b[39;49m\u001b[43mexact_prediction\u001b[49m\u001b[43m(\u001b[49m\u001b[43mfull_mean\u001b[49m\u001b[43m,\u001b[49m\u001b[43m \u001b[49m\u001b[43mfull_covar\u001b[49m\u001b[43m)\u001b[49m\n\u001b[1;32m    335\u001b[0m \u001b[38;5;66;03m# Reshape predictive mean to match the appropriate event shape\u001b[39;00m\n\u001b[1;32m    336\u001b[0m predictive_mean \u001b[38;5;241m=\u001b[39m predictive_mean\u001b[38;5;241m.\u001b[39mview(\u001b[38;5;241m*\u001b[39mbatch_shape, \u001b[38;5;241m*\u001b[39mtest_shape)\u001b[38;5;241m.\u001b[39mcontiguous()\n",
      "File \u001b[0;32m~/Python/Obs_and_exp_data/.conda/lib/python3.11/site-packages/gpytorch/models/exact_prediction_strategies.py:322\u001b[0m, in \u001b[0;36mDefaultPredictionStrategy.exact_prediction\u001b[0;34m(self, joint_mean, joint_covar)\u001b[0m\n\u001b[1;32m    317\u001b[0m     test_test_covar \u001b[38;5;241m=\u001b[39m joint_covar[\u001b[38;5;241m.\u001b[39m\u001b[38;5;241m.\u001b[39m\u001b[38;5;241m.\u001b[39m, \u001b[38;5;28mself\u001b[39m\u001b[38;5;241m.\u001b[39mnum_train :, \u001b[38;5;28mself\u001b[39m\u001b[38;5;241m.\u001b[39mnum_train :]\n\u001b[1;32m    318\u001b[0m     test_train_covar \u001b[38;5;241m=\u001b[39m joint_covar[\u001b[38;5;241m.\u001b[39m\u001b[38;5;241m.\u001b[39m\u001b[38;5;241m.\u001b[39m, \u001b[38;5;28mself\u001b[39m\u001b[38;5;241m.\u001b[39mnum_train :, : \u001b[38;5;28mself\u001b[39m\u001b[38;5;241m.\u001b[39mnum_train]\n\u001b[1;32m    320\u001b[0m \u001b[38;5;28;01mreturn\u001b[39;00m (\n\u001b[1;32m    321\u001b[0m     \u001b[38;5;28mself\u001b[39m\u001b[38;5;241m.\u001b[39mexact_predictive_mean(test_mean, test_train_covar),\n\u001b[0;32m--> 322\u001b[0m     \u001b[38;5;28;43mself\u001b[39;49m\u001b[38;5;241;43m.\u001b[39;49m\u001b[43mexact_predictive_covar\u001b[49m\u001b[43m(\u001b[49m\u001b[43mtest_test_covar\u001b[49m\u001b[43m,\u001b[49m\u001b[43m \u001b[49m\u001b[43mtest_train_covar\u001b[49m\u001b[43m)\u001b[49m,\n\u001b[1;32m    323\u001b[0m )\n",
      "File \u001b[0;32m~/Python/Obs_and_exp_data/.conda/lib/python3.11/site-packages/gpytorch/models/exact_prediction_strategies.py:393\u001b[0m, in \u001b[0;36mDefaultPredictionStrategy.exact_predictive_covar\u001b[0;34m(self, test_test_covar, test_train_covar)\u001b[0m\n\u001b[1;32m    391\u001b[0m test_train_covar \u001b[38;5;241m=\u001b[39m to_dense(test_train_covar)\n\u001b[1;32m    392\u001b[0m train_test_covar \u001b[38;5;241m=\u001b[39m test_train_covar\u001b[38;5;241m.\u001b[39mtranspose(\u001b[38;5;241m-\u001b[39m\u001b[38;5;241m1\u001b[39m, \u001b[38;5;241m-\u001b[39m\u001b[38;5;241m2\u001b[39m)\n\u001b[0;32m--> 393\u001b[0m covar_correction_rhs \u001b[38;5;241m=\u001b[39m \u001b[43mtrain_train_covar\u001b[49m\u001b[38;5;241;43m.\u001b[39;49m\u001b[43msolve\u001b[49m\u001b[43m(\u001b[49m\u001b[43mtrain_test_covar\u001b[49m\u001b[43m)\u001b[49m\n\u001b[1;32m    394\u001b[0m \u001b[38;5;66;03m# For efficiency\u001b[39;00m\n\u001b[1;32m    395\u001b[0m \u001b[38;5;28;01mif\u001b[39;00m torch\u001b[38;5;241m.\u001b[39mis_tensor(test_test_covar):\n\u001b[1;32m    396\u001b[0m     \u001b[38;5;66;03m# We can use addmm in the 2d case\u001b[39;00m\n",
      "File \u001b[0;32m~/Python/Obs_and_exp_data/.conda/lib/python3.11/site-packages/linear_operator/operators/_linear_operator.py:2342\u001b[0m, in \u001b[0;36mLinearOperator.solve\u001b[0;34m(self, right_tensor, left_tensor)\u001b[0m\n\u001b[1;32m   2340\u001b[0m func \u001b[38;5;241m=\u001b[39m Solve\n\u001b[1;32m   2341\u001b[0m \u001b[38;5;28;01mif\u001b[39;00m left_tensor \u001b[38;5;129;01mis\u001b[39;00m \u001b[38;5;28;01mNone\u001b[39;00m:\n\u001b[0;32m-> 2342\u001b[0m     \u001b[38;5;28;01mreturn\u001b[39;00m \u001b[43mfunc\u001b[49m\u001b[38;5;241;43m.\u001b[39;49m\u001b[43mapply\u001b[49m\u001b[43m(\u001b[49m\u001b[38;5;28;43mself\u001b[39;49m\u001b[38;5;241;43m.\u001b[39;49m\u001b[43mrepresentation_tree\u001b[49m\u001b[43m(\u001b[49m\u001b[43m)\u001b[49m\u001b[43m,\u001b[49m\u001b[43m \u001b[49m\u001b[38;5;28;43;01mFalse\u001b[39;49;00m\u001b[43m,\u001b[49m\u001b[43m \u001b[49m\u001b[43mright_tensor\u001b[49m\u001b[43m,\u001b[49m\u001b[43m \u001b[49m\u001b[38;5;241;43m*\u001b[39;49m\u001b[38;5;28;43mself\u001b[39;49m\u001b[38;5;241;43m.\u001b[39;49m\u001b[43mrepresentation\u001b[49m\u001b[43m(\u001b[49m\u001b[43m)\u001b[49m\u001b[43m)\u001b[49m\n\u001b[1;32m   2343\u001b[0m \u001b[38;5;28;01melse\u001b[39;00m:\n\u001b[1;32m   2344\u001b[0m     \u001b[38;5;28;01mreturn\u001b[39;00m func\u001b[38;5;241m.\u001b[39mapply(\n\u001b[1;32m   2345\u001b[0m         \u001b[38;5;28mself\u001b[39m\u001b[38;5;241m.\u001b[39mrepresentation_tree(),\n\u001b[1;32m   2346\u001b[0m         \u001b[38;5;28;01mTrue\u001b[39;00m,\n\u001b[0;32m   (...)\u001b[0m\n\u001b[1;32m   2349\u001b[0m         \u001b[38;5;241m*\u001b[39m\u001b[38;5;28mself\u001b[39m\u001b[38;5;241m.\u001b[39mrepresentation(),\n\u001b[1;32m   2350\u001b[0m     )\n",
      "File \u001b[0;32m~/Python/Obs_and_exp_data/.conda/lib/python3.11/site-packages/torch/autograd/function.py:574\u001b[0m, in \u001b[0;36mFunction.apply\u001b[0;34m(cls, *args, **kwargs)\u001b[0m\n\u001b[1;32m    571\u001b[0m \u001b[38;5;28;01mif\u001b[39;00m \u001b[38;5;129;01mnot\u001b[39;00m torch\u001b[38;5;241m.\u001b[39m_C\u001b[38;5;241m.\u001b[39m_are_functorch_transforms_active():\n\u001b[1;32m    572\u001b[0m     \u001b[38;5;66;03m# See NOTE: [functorch vjp and autograd interaction]\u001b[39;00m\n\u001b[1;32m    573\u001b[0m     args \u001b[38;5;241m=\u001b[39m _functorch\u001b[38;5;241m.\u001b[39mutils\u001b[38;5;241m.\u001b[39munwrap_dead_wrappers(args)\n\u001b[0;32m--> 574\u001b[0m     \u001b[38;5;28;01mreturn\u001b[39;00m \u001b[38;5;28;43msuper\u001b[39;49m\u001b[43m(\u001b[49m\u001b[43m)\u001b[49m\u001b[38;5;241;43m.\u001b[39;49m\u001b[43mapply\u001b[49m\u001b[43m(\u001b[49m\u001b[38;5;241;43m*\u001b[39;49m\u001b[43margs\u001b[49m\u001b[43m,\u001b[49m\u001b[43m \u001b[49m\u001b[38;5;241;43m*\u001b[39;49m\u001b[38;5;241;43m*\u001b[39;49m\u001b[43mkwargs\u001b[49m\u001b[43m)\u001b[49m  \u001b[38;5;66;03m# type: ignore[misc]\u001b[39;00m\n\u001b[1;32m    576\u001b[0m \u001b[38;5;28;01mif\u001b[39;00m \u001b[38;5;129;01mnot\u001b[39;00m is_setup_ctx_defined:\n\u001b[1;32m    577\u001b[0m     \u001b[38;5;28;01mraise\u001b[39;00m \u001b[38;5;167;01mRuntimeError\u001b[39;00m(\n\u001b[1;32m    578\u001b[0m         \u001b[38;5;124m\"\u001b[39m\u001b[38;5;124mIn order to use an autograd.Function with functorch transforms \u001b[39m\u001b[38;5;124m\"\u001b[39m\n\u001b[1;32m    579\u001b[0m         \u001b[38;5;124m\"\u001b[39m\u001b[38;5;124m(vmap, grad, jvp, jacrev, ...), it must override the setup_context \u001b[39m\u001b[38;5;124m\"\u001b[39m\n\u001b[1;32m    580\u001b[0m         \u001b[38;5;124m\"\u001b[39m\u001b[38;5;124mstaticmethod. For more details, please see \u001b[39m\u001b[38;5;124m\"\u001b[39m\n\u001b[1;32m    581\u001b[0m         \u001b[38;5;124m\"\u001b[39m\u001b[38;5;124mhttps://pytorch.org/docs/main/notes/extending.func.html\u001b[39m\u001b[38;5;124m\"\u001b[39m\n\u001b[1;32m    582\u001b[0m     )\n",
      "File \u001b[0;32m~/Python/Obs_and_exp_data/.conda/lib/python3.11/site-packages/linear_operator/functions/_solve.py:53\u001b[0m, in \u001b[0;36mSolve.forward\u001b[0;34m(ctx, representation_tree, has_left, *args)\u001b[0m\n\u001b[1;32m     51\u001b[0m     res \u001b[38;5;241m=\u001b[39m left_tensor \u001b[38;5;241m@\u001b[39m res\n\u001b[1;32m     52\u001b[0m \u001b[38;5;28;01melse\u001b[39;00m:\n\u001b[0;32m---> 53\u001b[0m     solves \u001b[38;5;241m=\u001b[39m \u001b[43m_solve\u001b[49m\u001b[43m(\u001b[49m\u001b[43mlinear_op\u001b[49m\u001b[43m,\u001b[49m\u001b[43m \u001b[49m\u001b[43mright_tensor\u001b[49m\u001b[43m)\u001b[49m\n\u001b[1;32m     54\u001b[0m     res \u001b[38;5;241m=\u001b[39m solves\n\u001b[1;32m     56\u001b[0m \u001b[38;5;28;01mif\u001b[39;00m ctx\u001b[38;5;241m.\u001b[39mis_vector:\n",
      "File \u001b[0;32m~/Python/Obs_and_exp_data/.conda/lib/python3.11/site-packages/linear_operator/functions/_solve.py:21\u001b[0m, in \u001b[0;36m_solve\u001b[0;34m(linear_op, rhs)\u001b[0m\n\u001b[1;32m     19\u001b[0m \u001b[38;5;28;01mwith\u001b[39;00m torch\u001b[38;5;241m.\u001b[39mno_grad():\n\u001b[1;32m     20\u001b[0m     preconditioner \u001b[38;5;241m=\u001b[39m linear_op\u001b[38;5;241m.\u001b[39mdetach()\u001b[38;5;241m.\u001b[39m_solve_preconditioner()\n\u001b[0;32m---> 21\u001b[0m \u001b[38;5;28;01mreturn\u001b[39;00m \u001b[43mlinear_op\u001b[49m\u001b[38;5;241;43m.\u001b[39;49m\u001b[43m_solve\u001b[49m\u001b[43m(\u001b[49m\u001b[43mrhs\u001b[49m\u001b[43m,\u001b[49m\u001b[43m \u001b[49m\u001b[43mpreconditioner\u001b[49m\u001b[43m)\u001b[49m\n",
      "File \u001b[0;32m~/Python/Obs_and_exp_data/.conda/lib/python3.11/site-packages/linear_operator/operators/_linear_operator.py:795\u001b[0m, in \u001b[0;36mLinearOperator._solve\u001b[0;34m(self, rhs, preconditioner, num_tridiag)\u001b[0m\n\u001b[1;32m    780\u001b[0m \u001b[38;5;28;01mdef\u001b[39;00m \u001b[38;5;21m_solve\u001b[39m(\n\u001b[1;32m    781\u001b[0m     \u001b[38;5;28mself\u001b[39m: Float[LinearOperator, \u001b[38;5;124m\"\u001b[39m\u001b[38;5;124m... N N\u001b[39m\u001b[38;5;124m\"\u001b[39m],\n\u001b[1;32m    782\u001b[0m     rhs: Float[torch\u001b[38;5;241m.\u001b[39mTensor, \u001b[38;5;124m\"\u001b[39m\u001b[38;5;124m... N C\u001b[39m\u001b[38;5;124m\"\u001b[39m],\n\u001b[0;32m   (...)\u001b[0m\n\u001b[1;32m    790\u001b[0m     ],\n\u001b[1;32m    791\u001b[0m ]:\n\u001b[1;32m    792\u001b[0m \u001b[38;5;250m    \u001b[39m\u001b[38;5;124mr\u001b[39m\u001b[38;5;124;03m\"\"\"\u001b[39;00m\n\u001b[1;32m    793\u001b[0m \u001b[38;5;124;03m    TODO\u001b[39;00m\n\u001b[1;32m    794\u001b[0m \u001b[38;5;124;03m    \"\"\"\u001b[39;00m\n\u001b[0;32m--> 795\u001b[0m     \u001b[38;5;28;01mreturn\u001b[39;00m \u001b[43mutils\u001b[49m\u001b[38;5;241;43m.\u001b[39;49m\u001b[43mlinear_cg\u001b[49m\u001b[43m(\u001b[49m\n\u001b[1;32m    796\u001b[0m \u001b[43m        \u001b[49m\u001b[38;5;28;43mself\u001b[39;49m\u001b[38;5;241;43m.\u001b[39;49m\u001b[43m_matmul\u001b[49m\u001b[43m,\u001b[49m\n\u001b[1;32m    797\u001b[0m \u001b[43m        \u001b[49m\u001b[43mrhs\u001b[49m\u001b[43m,\u001b[49m\n\u001b[1;32m    798\u001b[0m \u001b[43m        \u001b[49m\u001b[43mn_tridiag\u001b[49m\u001b[38;5;241;43m=\u001b[39;49m\u001b[43mnum_tridiag\u001b[49m\u001b[43m,\u001b[49m\n\u001b[1;32m    799\u001b[0m \u001b[43m        \u001b[49m\u001b[43mmax_iter\u001b[49m\u001b[38;5;241;43m=\u001b[39;49m\u001b[43msettings\u001b[49m\u001b[38;5;241;43m.\u001b[39;49m\u001b[43mmax_cg_iterations\u001b[49m\u001b[38;5;241;43m.\u001b[39;49m\u001b[43mvalue\u001b[49m\u001b[43m(\u001b[49m\u001b[43m)\u001b[49m\u001b[43m,\u001b[49m\n\u001b[1;32m    800\u001b[0m \u001b[43m        \u001b[49m\u001b[43mmax_tridiag_iter\u001b[49m\u001b[38;5;241;43m=\u001b[39;49m\u001b[43msettings\u001b[49m\u001b[38;5;241;43m.\u001b[39;49m\u001b[43mmax_lanczos_quadrature_iterations\u001b[49m\u001b[38;5;241;43m.\u001b[39;49m\u001b[43mvalue\u001b[49m\u001b[43m(\u001b[49m\u001b[43m)\u001b[49m\u001b[43m,\u001b[49m\n\u001b[1;32m    801\u001b[0m \u001b[43m        \u001b[49m\u001b[43mpreconditioner\u001b[49m\u001b[38;5;241;43m=\u001b[39;49m\u001b[43mpreconditioner\u001b[49m\u001b[43m,\u001b[49m\n\u001b[1;32m    802\u001b[0m \u001b[43m    \u001b[49m\u001b[43m)\u001b[49m\n",
      "File \u001b[0;32m~/Python/Obs_and_exp_data/.conda/lib/python3.11/site-packages/linear_operator/utils/linear_cg.py:248\u001b[0m, in \u001b[0;36mlinear_cg\u001b[0;34m(matmul_closure, rhs, n_tridiag, tolerance, eps, stop_updating_after, max_iter, max_tridiag_iter, initial_guess, preconditioner)\u001b[0m\n\u001b[1;32m    244\u001b[0m \u001b[38;5;66;03m# Start the iteration\u001b[39;00m\n\u001b[1;32m    245\u001b[0m \u001b[38;5;28;01mfor\u001b[39;00m k \u001b[38;5;129;01min\u001b[39;00m \u001b[38;5;28mrange\u001b[39m(n_iter):\n\u001b[1;32m    246\u001b[0m     \u001b[38;5;66;03m# Get next alpha\u001b[39;00m\n\u001b[1;32m    247\u001b[0m     \u001b[38;5;66;03m# alpha_{k} = (residual_{k-1}^T precon_residual{k-1}) / (p_vec_{k-1}^T mat p_vec_{k-1})\u001b[39;00m\n\u001b[0;32m--> 248\u001b[0m     mvms \u001b[38;5;241m=\u001b[39m \u001b[43mmatmul_closure\u001b[49m\u001b[43m(\u001b[49m\u001b[43mcurr_conjugate_vec\u001b[49m\u001b[43m)\u001b[49m\n\u001b[1;32m    249\u001b[0m     \u001b[38;5;28;01mif\u001b[39;00m precond:\n\u001b[1;32m    250\u001b[0m         torch\u001b[38;5;241m.\u001b[39mmul(curr_conjugate_vec, mvms, out\u001b[38;5;241m=\u001b[39mmul_storage)\n",
      "File \u001b[0;32m~/Python/Obs_and_exp_data/.conda/lib/python3.11/site-packages/linear_operator/operators/added_diag_linear_operator.py:77\u001b[0m, in \u001b[0;36mAddedDiagLinearOperator._matmul\u001b[0;34m(self, rhs)\u001b[0m\n\u001b[1;32m     73\u001b[0m \u001b[38;5;28;01mdef\u001b[39;00m \u001b[38;5;21m_matmul\u001b[39m(\n\u001b[1;32m     74\u001b[0m     \u001b[38;5;28mself\u001b[39m: Float[LinearOperator, \u001b[38;5;124m\"\u001b[39m\u001b[38;5;124m*batch M N\u001b[39m\u001b[38;5;124m\"\u001b[39m],\n\u001b[1;32m     75\u001b[0m     rhs: Union[Float[torch\u001b[38;5;241m.\u001b[39mTensor, \u001b[38;5;124m\"\u001b[39m\u001b[38;5;124m*batch2 N C\u001b[39m\u001b[38;5;124m\"\u001b[39m], Float[torch\u001b[38;5;241m.\u001b[39mTensor, \u001b[38;5;124m\"\u001b[39m\u001b[38;5;124m*batch2 N\u001b[39m\u001b[38;5;124m\"\u001b[39m]],\n\u001b[1;32m     76\u001b[0m ) \u001b[38;5;241m-\u001b[39m\u001b[38;5;241m>\u001b[39m Union[Float[torch\u001b[38;5;241m.\u001b[39mTensor, \u001b[38;5;124m\"\u001b[39m\u001b[38;5;124m... M C\u001b[39m\u001b[38;5;124m\"\u001b[39m], Float[torch\u001b[38;5;241m.\u001b[39mTensor, \u001b[38;5;124m\"\u001b[39m\u001b[38;5;124m... M\u001b[39m\u001b[38;5;124m\"\u001b[39m]]:\n\u001b[0;32m---> 77\u001b[0m     \u001b[38;5;28;01mreturn\u001b[39;00m \u001b[43mtorch\u001b[49m\u001b[38;5;241;43m.\u001b[39;49m\u001b[43maddcmul\u001b[49m\u001b[43m(\u001b[49m\u001b[38;5;28;43mself\u001b[39;49m\u001b[38;5;241;43m.\u001b[39;49m\u001b[43m_linear_op\u001b[49m\u001b[38;5;241;43m.\u001b[39;49m\u001b[43m_matmul\u001b[49m\u001b[43m(\u001b[49m\u001b[43mrhs\u001b[49m\u001b[43m)\u001b[49m\u001b[43m,\u001b[49m\u001b[43m \u001b[49m\u001b[38;5;28;43mself\u001b[39;49m\u001b[38;5;241;43m.\u001b[39;49m\u001b[43m_diag_tensor\u001b[49m\u001b[38;5;241;43m.\u001b[39;49m\u001b[43m_diag\u001b[49m\u001b[38;5;241;43m.\u001b[39;49m\u001b[43munsqueeze\u001b[49m\u001b[43m(\u001b[49m\u001b[38;5;241;43m-\u001b[39;49m\u001b[38;5;241;43m1\u001b[39;49m\u001b[43m)\u001b[49m\u001b[43m,\u001b[49m\u001b[43m \u001b[49m\u001b[43mrhs\u001b[49m\u001b[43m)\u001b[49m\n",
      "\u001b[0;31mKeyboardInterrupt\u001b[0m: "
     ]
    }
   ],
   "source": [
    "model_fixed(X_in_dist,torch.zeros(X_in_dist.shape[0])).mean"
   ]
  },
  {
   "cell_type": "code",
   "execution_count": null,
   "metadata": {},
   "outputs": [
    {
     "data": {
      "text/plain": [
       "tensor([-1.0820, -0.8067,  7.1464,  ..., -0.4551,  1.1055,  0.6783],\n",
       "       grad_fn=<SubBackward0>)"
      ]
     },
     "execution_count": 40,
     "metadata": {},
     "output_type": "execute_result"
    }
   ],
   "source": [
    "pseudo_data_adjusted.Y"
   ]
  },
  {
   "cell_type": "code",
   "execution_count": null,
   "metadata": {},
   "outputs": [
    {
     "name": "stderr",
     "output_type": "stream",
     "text": [
      "/Users/jake/Python/Obs_and_exp_data/.conda/lib/python3.11/site-packages/gpytorch/models/exact_gp.py:284: GPInputWarning: The input matches the stored training data. Did you forget to call model.train()?\n",
      "  warnings.warn(\n"
     ]
    },
    {
     "data": {
      "text/plain": [
       "tensor([-0.8885, -0.6468,  6.1277,  ..., -0.3459,  0.9826,  0.6233],\n",
       "       grad_fn=<ViewBackward0>)"
      ]
     },
     "execution_count": 41,
     "metadata": {},
     "output_type": "execute_result"
    }
   ],
   "source": [
    "model_fixed(pseudo_data_adjusted.X,pseudo_data_adjusted.T).mean"
   ]
  },
  {
   "cell_type": "code",
   "execution_count": null,
   "metadata": {},
   "outputs": [],
   "source": [
    "vec = model_fixed.prediction_strategy.mean_cache\n",
    "cov = model_fixed.prediction_strategy.covar_cache"
   ]
  },
  {
   "cell_type": "code",
   "execution_count": null,
   "metadata": {},
   "outputs": [
    {
     "data": {
      "text/plain": [
       "tensor(4.5693)"
      ]
     },
     "execution_count": 49,
     "metadata": {},
     "output_type": "execute_result"
    }
   ],
   "source": [
    "cov.norm()"
   ]
  },
  {
   "cell_type": "code",
   "execution_count": null,
   "metadata": {},
   "outputs": [
    {
     "data": {
      "text/plain": [
       "2000"
      ]
     },
     "execution_count": 52,
     "metadata": {},
     "output_type": "execute_result"
    }
   ],
   "source": [
    "len(vec)"
   ]
  },
  {
   "cell_type": "code",
   "execution_count": null,
   "metadata": {},
   "outputs": [
    {
     "data": {
      "text/plain": [
       "tensor(2.9176)"
      ]
     },
     "execution_count": 51,
     "metadata": {},
     "output_type": "execute_result"
    }
   ],
   "source": [
    "(vec).norm()*(len(vec)**0.5)/1000"
   ]
  },
  {
   "cell_type": "code",
   "execution_count": null,
   "metadata": {},
   "outputs": [
    {
     "ename": "KeyboardInterrupt",
     "evalue": "",
     "output_type": "error",
     "traceback": [
      "\u001b[0;31m---------------------------------------------------------------------------\u001b[0m",
      "\u001b[0;31mKeyboardInterrupt\u001b[0m                         Traceback (most recent call last)",
      "Cell \u001b[0;32mIn[42], line 1\u001b[0m\n\u001b[0;32m----> 1\u001b[0m CATE_FIXED \u001b[38;5;241m=\u001b[39m (\u001b[43mmodel_fixed\u001b[49m\u001b[38;5;241;43m.\u001b[39;49m\u001b[43mCATE\u001b[49m\u001b[43m(\u001b[49m\u001b[43mX_in_dist\u001b[49m\u001b[43m)\u001b[49m\u001b[38;5;241m.\u001b[39mmean)\n",
      "File \u001b[0;32m~/Python/Obs_and_exp_data/src/GP/GP.py:142\u001b[0m, in \u001b[0;36mFixedPseudoOutcome_MultitaskGPModel.CATE\u001b[0;34m(self, x)\u001b[0m\n\u001b[1;32m    139\u001b[0m \u001b[38;5;28;01mdef\u001b[39;00m \u001b[38;5;21mCATE\u001b[39m(\u001b[38;5;28mself\u001b[39m,x):\n\u001b[1;32m    141\u001b[0m     t \u001b[38;5;241m=\u001b[39m torch\u001b[38;5;241m.\u001b[39mfull((x\u001b[38;5;241m.\u001b[39mshape[\u001b[38;5;241m0\u001b[39m],\u001b[38;5;241m1\u001b[39m), dtype\u001b[38;5;241m=\u001b[39mtorch\u001b[38;5;241m.\u001b[39mlong, fill_value\u001b[38;5;241m=\u001b[39m\u001b[38;5;241m2\u001b[39m)\n\u001b[0;32m--> 142\u001b[0m     \u001b[38;5;28;01mreturn\u001b[39;00m \u001b[38;5;28;43mself\u001b[39;49m\u001b[43m(\u001b[49m\u001b[43mx\u001b[49m\u001b[43m,\u001b[49m\u001b[43mt\u001b[49m\u001b[43m)\u001b[49m\n",
      "File \u001b[0;32m~/Python/Obs_and_exp_data/.conda/lib/python3.11/site-packages/gpytorch/models/exact_gp.py:333\u001b[0m, in \u001b[0;36mExactGP.__call__\u001b[0;34m(self, *args, **kwargs)\u001b[0m\n\u001b[1;32m    328\u001b[0m \u001b[38;5;66;03m# Make the prediction\u001b[39;00m\n\u001b[1;32m    329\u001b[0m \u001b[38;5;28;01mwith\u001b[39;00m settings\u001b[38;5;241m.\u001b[39mcg_tolerance(settings\u001b[38;5;241m.\u001b[39meval_cg_tolerance\u001b[38;5;241m.\u001b[39mvalue()):\n\u001b[1;32m    330\u001b[0m     (\n\u001b[1;32m    331\u001b[0m         predictive_mean,\n\u001b[1;32m    332\u001b[0m         predictive_covar,\n\u001b[0;32m--> 333\u001b[0m     ) \u001b[38;5;241m=\u001b[39m \u001b[38;5;28;43mself\u001b[39;49m\u001b[38;5;241;43m.\u001b[39;49m\u001b[43mprediction_strategy\u001b[49m\u001b[38;5;241;43m.\u001b[39;49m\u001b[43mexact_prediction\u001b[49m\u001b[43m(\u001b[49m\u001b[43mfull_mean\u001b[49m\u001b[43m,\u001b[49m\u001b[43m \u001b[49m\u001b[43mfull_covar\u001b[49m\u001b[43m)\u001b[49m\n\u001b[1;32m    335\u001b[0m \u001b[38;5;66;03m# Reshape predictive mean to match the appropriate event shape\u001b[39;00m\n\u001b[1;32m    336\u001b[0m predictive_mean \u001b[38;5;241m=\u001b[39m predictive_mean\u001b[38;5;241m.\u001b[39mview(\u001b[38;5;241m*\u001b[39mbatch_shape, \u001b[38;5;241m*\u001b[39mtest_shape)\u001b[38;5;241m.\u001b[39mcontiguous()\n",
      "File \u001b[0;32m~/Python/Obs_and_exp_data/.conda/lib/python3.11/site-packages/gpytorch/models/exact_prediction_strategies.py:322\u001b[0m, in \u001b[0;36mDefaultPredictionStrategy.exact_prediction\u001b[0;34m(self, joint_mean, joint_covar)\u001b[0m\n\u001b[1;32m    317\u001b[0m     test_test_covar \u001b[38;5;241m=\u001b[39m joint_covar[\u001b[38;5;241m.\u001b[39m\u001b[38;5;241m.\u001b[39m\u001b[38;5;241m.\u001b[39m, \u001b[38;5;28mself\u001b[39m\u001b[38;5;241m.\u001b[39mnum_train :, \u001b[38;5;28mself\u001b[39m\u001b[38;5;241m.\u001b[39mnum_train :]\n\u001b[1;32m    318\u001b[0m     test_train_covar \u001b[38;5;241m=\u001b[39m joint_covar[\u001b[38;5;241m.\u001b[39m\u001b[38;5;241m.\u001b[39m\u001b[38;5;241m.\u001b[39m, \u001b[38;5;28mself\u001b[39m\u001b[38;5;241m.\u001b[39mnum_train :, : \u001b[38;5;28mself\u001b[39m\u001b[38;5;241m.\u001b[39mnum_train]\n\u001b[1;32m    320\u001b[0m \u001b[38;5;28;01mreturn\u001b[39;00m (\n\u001b[1;32m    321\u001b[0m     \u001b[38;5;28mself\u001b[39m\u001b[38;5;241m.\u001b[39mexact_predictive_mean(test_mean, test_train_covar),\n\u001b[0;32m--> 322\u001b[0m     \u001b[38;5;28;43mself\u001b[39;49m\u001b[38;5;241;43m.\u001b[39;49m\u001b[43mexact_predictive_covar\u001b[49m\u001b[43m(\u001b[49m\u001b[43mtest_test_covar\u001b[49m\u001b[43m,\u001b[49m\u001b[43m \u001b[49m\u001b[43mtest_train_covar\u001b[49m\u001b[43m)\u001b[49m,\n\u001b[1;32m    323\u001b[0m )\n",
      "File \u001b[0;32m~/Python/Obs_and_exp_data/.conda/lib/python3.11/site-packages/gpytorch/models/exact_prediction_strategies.py:393\u001b[0m, in \u001b[0;36mDefaultPredictionStrategy.exact_predictive_covar\u001b[0;34m(self, test_test_covar, test_train_covar)\u001b[0m\n\u001b[1;32m    391\u001b[0m test_train_covar \u001b[38;5;241m=\u001b[39m to_dense(test_train_covar)\n\u001b[1;32m    392\u001b[0m train_test_covar \u001b[38;5;241m=\u001b[39m test_train_covar\u001b[38;5;241m.\u001b[39mtranspose(\u001b[38;5;241m-\u001b[39m\u001b[38;5;241m1\u001b[39m, \u001b[38;5;241m-\u001b[39m\u001b[38;5;241m2\u001b[39m)\n\u001b[0;32m--> 393\u001b[0m covar_correction_rhs \u001b[38;5;241m=\u001b[39m \u001b[43mtrain_train_covar\u001b[49m\u001b[38;5;241;43m.\u001b[39;49m\u001b[43msolve\u001b[49m\u001b[43m(\u001b[49m\u001b[43mtrain_test_covar\u001b[49m\u001b[43m)\u001b[49m\n\u001b[1;32m    394\u001b[0m \u001b[38;5;66;03m# For efficiency\u001b[39;00m\n\u001b[1;32m    395\u001b[0m \u001b[38;5;28;01mif\u001b[39;00m torch\u001b[38;5;241m.\u001b[39mis_tensor(test_test_covar):\n\u001b[1;32m    396\u001b[0m     \u001b[38;5;66;03m# We can use addmm in the 2d case\u001b[39;00m\n",
      "File \u001b[0;32m~/Python/Obs_and_exp_data/.conda/lib/python3.11/site-packages/linear_operator/operators/_linear_operator.py:2342\u001b[0m, in \u001b[0;36mLinearOperator.solve\u001b[0;34m(self, right_tensor, left_tensor)\u001b[0m\n\u001b[1;32m   2340\u001b[0m func \u001b[38;5;241m=\u001b[39m Solve\n\u001b[1;32m   2341\u001b[0m \u001b[38;5;28;01mif\u001b[39;00m left_tensor \u001b[38;5;129;01mis\u001b[39;00m \u001b[38;5;28;01mNone\u001b[39;00m:\n\u001b[0;32m-> 2342\u001b[0m     \u001b[38;5;28;01mreturn\u001b[39;00m \u001b[43mfunc\u001b[49m\u001b[38;5;241;43m.\u001b[39;49m\u001b[43mapply\u001b[49m\u001b[43m(\u001b[49m\u001b[38;5;28;43mself\u001b[39;49m\u001b[38;5;241;43m.\u001b[39;49m\u001b[43mrepresentation_tree\u001b[49m\u001b[43m(\u001b[49m\u001b[43m)\u001b[49m\u001b[43m,\u001b[49m\u001b[43m \u001b[49m\u001b[38;5;28;43;01mFalse\u001b[39;49;00m\u001b[43m,\u001b[49m\u001b[43m \u001b[49m\u001b[43mright_tensor\u001b[49m\u001b[43m,\u001b[49m\u001b[43m \u001b[49m\u001b[38;5;241;43m*\u001b[39;49m\u001b[38;5;28;43mself\u001b[39;49m\u001b[38;5;241;43m.\u001b[39;49m\u001b[43mrepresentation\u001b[49m\u001b[43m(\u001b[49m\u001b[43m)\u001b[49m\u001b[43m)\u001b[49m\n\u001b[1;32m   2343\u001b[0m \u001b[38;5;28;01melse\u001b[39;00m:\n\u001b[1;32m   2344\u001b[0m     \u001b[38;5;28;01mreturn\u001b[39;00m func\u001b[38;5;241m.\u001b[39mapply(\n\u001b[1;32m   2345\u001b[0m         \u001b[38;5;28mself\u001b[39m\u001b[38;5;241m.\u001b[39mrepresentation_tree(),\n\u001b[1;32m   2346\u001b[0m         \u001b[38;5;28;01mTrue\u001b[39;00m,\n\u001b[0;32m   (...)\u001b[0m\n\u001b[1;32m   2349\u001b[0m         \u001b[38;5;241m*\u001b[39m\u001b[38;5;28mself\u001b[39m\u001b[38;5;241m.\u001b[39mrepresentation(),\n\u001b[1;32m   2350\u001b[0m     )\n",
      "File \u001b[0;32m~/Python/Obs_and_exp_data/.conda/lib/python3.11/site-packages/torch/autograd/function.py:574\u001b[0m, in \u001b[0;36mFunction.apply\u001b[0;34m(cls, *args, **kwargs)\u001b[0m\n\u001b[1;32m    571\u001b[0m \u001b[38;5;28;01mif\u001b[39;00m \u001b[38;5;129;01mnot\u001b[39;00m torch\u001b[38;5;241m.\u001b[39m_C\u001b[38;5;241m.\u001b[39m_are_functorch_transforms_active():\n\u001b[1;32m    572\u001b[0m     \u001b[38;5;66;03m# See NOTE: [functorch vjp and autograd interaction]\u001b[39;00m\n\u001b[1;32m    573\u001b[0m     args \u001b[38;5;241m=\u001b[39m _functorch\u001b[38;5;241m.\u001b[39mutils\u001b[38;5;241m.\u001b[39munwrap_dead_wrappers(args)\n\u001b[0;32m--> 574\u001b[0m     \u001b[38;5;28;01mreturn\u001b[39;00m \u001b[38;5;28;43msuper\u001b[39;49m\u001b[43m(\u001b[49m\u001b[43m)\u001b[49m\u001b[38;5;241;43m.\u001b[39;49m\u001b[43mapply\u001b[49m\u001b[43m(\u001b[49m\u001b[38;5;241;43m*\u001b[39;49m\u001b[43margs\u001b[49m\u001b[43m,\u001b[49m\u001b[43m \u001b[49m\u001b[38;5;241;43m*\u001b[39;49m\u001b[38;5;241;43m*\u001b[39;49m\u001b[43mkwargs\u001b[49m\u001b[43m)\u001b[49m  \u001b[38;5;66;03m# type: ignore[misc]\u001b[39;00m\n\u001b[1;32m    576\u001b[0m \u001b[38;5;28;01mif\u001b[39;00m \u001b[38;5;129;01mnot\u001b[39;00m is_setup_ctx_defined:\n\u001b[1;32m    577\u001b[0m     \u001b[38;5;28;01mraise\u001b[39;00m \u001b[38;5;167;01mRuntimeError\u001b[39;00m(\n\u001b[1;32m    578\u001b[0m         \u001b[38;5;124m\"\u001b[39m\u001b[38;5;124mIn order to use an autograd.Function with functorch transforms \u001b[39m\u001b[38;5;124m\"\u001b[39m\n\u001b[1;32m    579\u001b[0m         \u001b[38;5;124m\"\u001b[39m\u001b[38;5;124m(vmap, grad, jvp, jacrev, ...), it must override the setup_context \u001b[39m\u001b[38;5;124m\"\u001b[39m\n\u001b[1;32m    580\u001b[0m         \u001b[38;5;124m\"\u001b[39m\u001b[38;5;124mstaticmethod. For more details, please see \u001b[39m\u001b[38;5;124m\"\u001b[39m\n\u001b[1;32m    581\u001b[0m         \u001b[38;5;124m\"\u001b[39m\u001b[38;5;124mhttps://pytorch.org/docs/main/notes/extending.func.html\u001b[39m\u001b[38;5;124m\"\u001b[39m\n\u001b[1;32m    582\u001b[0m     )\n",
      "File \u001b[0;32m~/Python/Obs_and_exp_data/.conda/lib/python3.11/site-packages/linear_operator/functions/_solve.py:53\u001b[0m, in \u001b[0;36mSolve.forward\u001b[0;34m(ctx, representation_tree, has_left, *args)\u001b[0m\n\u001b[1;32m     51\u001b[0m     res \u001b[38;5;241m=\u001b[39m left_tensor \u001b[38;5;241m@\u001b[39m res\n\u001b[1;32m     52\u001b[0m \u001b[38;5;28;01melse\u001b[39;00m:\n\u001b[0;32m---> 53\u001b[0m     solves \u001b[38;5;241m=\u001b[39m \u001b[43m_solve\u001b[49m\u001b[43m(\u001b[49m\u001b[43mlinear_op\u001b[49m\u001b[43m,\u001b[49m\u001b[43m \u001b[49m\u001b[43mright_tensor\u001b[49m\u001b[43m)\u001b[49m\n\u001b[1;32m     54\u001b[0m     res \u001b[38;5;241m=\u001b[39m solves\n\u001b[1;32m     56\u001b[0m \u001b[38;5;28;01mif\u001b[39;00m ctx\u001b[38;5;241m.\u001b[39mis_vector:\n",
      "File \u001b[0;32m~/Python/Obs_and_exp_data/.conda/lib/python3.11/site-packages/linear_operator/functions/_solve.py:21\u001b[0m, in \u001b[0;36m_solve\u001b[0;34m(linear_op, rhs)\u001b[0m\n\u001b[1;32m     19\u001b[0m \u001b[38;5;28;01mwith\u001b[39;00m torch\u001b[38;5;241m.\u001b[39mno_grad():\n\u001b[1;32m     20\u001b[0m     preconditioner \u001b[38;5;241m=\u001b[39m linear_op\u001b[38;5;241m.\u001b[39mdetach()\u001b[38;5;241m.\u001b[39m_solve_preconditioner()\n\u001b[0;32m---> 21\u001b[0m \u001b[38;5;28;01mreturn\u001b[39;00m \u001b[43mlinear_op\u001b[49m\u001b[38;5;241;43m.\u001b[39;49m\u001b[43m_solve\u001b[49m\u001b[43m(\u001b[49m\u001b[43mrhs\u001b[49m\u001b[43m,\u001b[49m\u001b[43m \u001b[49m\u001b[43mpreconditioner\u001b[49m\u001b[43m)\u001b[49m\n",
      "File \u001b[0;32m~/Python/Obs_and_exp_data/.conda/lib/python3.11/site-packages/linear_operator/operators/_linear_operator.py:795\u001b[0m, in \u001b[0;36mLinearOperator._solve\u001b[0;34m(self, rhs, preconditioner, num_tridiag)\u001b[0m\n\u001b[1;32m    780\u001b[0m \u001b[38;5;28;01mdef\u001b[39;00m \u001b[38;5;21m_solve\u001b[39m(\n\u001b[1;32m    781\u001b[0m     \u001b[38;5;28mself\u001b[39m: Float[LinearOperator, \u001b[38;5;124m\"\u001b[39m\u001b[38;5;124m... N N\u001b[39m\u001b[38;5;124m\"\u001b[39m],\n\u001b[1;32m    782\u001b[0m     rhs: Float[torch\u001b[38;5;241m.\u001b[39mTensor, \u001b[38;5;124m\"\u001b[39m\u001b[38;5;124m... N C\u001b[39m\u001b[38;5;124m\"\u001b[39m],\n\u001b[0;32m   (...)\u001b[0m\n\u001b[1;32m    790\u001b[0m     ],\n\u001b[1;32m    791\u001b[0m ]:\n\u001b[1;32m    792\u001b[0m \u001b[38;5;250m    \u001b[39m\u001b[38;5;124mr\u001b[39m\u001b[38;5;124;03m\"\"\"\u001b[39;00m\n\u001b[1;32m    793\u001b[0m \u001b[38;5;124;03m    TODO\u001b[39;00m\n\u001b[1;32m    794\u001b[0m \u001b[38;5;124;03m    \"\"\"\u001b[39;00m\n\u001b[0;32m--> 795\u001b[0m     \u001b[38;5;28;01mreturn\u001b[39;00m \u001b[43mutils\u001b[49m\u001b[38;5;241;43m.\u001b[39;49m\u001b[43mlinear_cg\u001b[49m\u001b[43m(\u001b[49m\n\u001b[1;32m    796\u001b[0m \u001b[43m        \u001b[49m\u001b[38;5;28;43mself\u001b[39;49m\u001b[38;5;241;43m.\u001b[39;49m\u001b[43m_matmul\u001b[49m\u001b[43m,\u001b[49m\n\u001b[1;32m    797\u001b[0m \u001b[43m        \u001b[49m\u001b[43mrhs\u001b[49m\u001b[43m,\u001b[49m\n\u001b[1;32m    798\u001b[0m \u001b[43m        \u001b[49m\u001b[43mn_tridiag\u001b[49m\u001b[38;5;241;43m=\u001b[39;49m\u001b[43mnum_tridiag\u001b[49m\u001b[43m,\u001b[49m\n\u001b[1;32m    799\u001b[0m \u001b[43m        \u001b[49m\u001b[43mmax_iter\u001b[49m\u001b[38;5;241;43m=\u001b[39;49m\u001b[43msettings\u001b[49m\u001b[38;5;241;43m.\u001b[39;49m\u001b[43mmax_cg_iterations\u001b[49m\u001b[38;5;241;43m.\u001b[39;49m\u001b[43mvalue\u001b[49m\u001b[43m(\u001b[49m\u001b[43m)\u001b[49m\u001b[43m,\u001b[49m\n\u001b[1;32m    800\u001b[0m \u001b[43m        \u001b[49m\u001b[43mmax_tridiag_iter\u001b[49m\u001b[38;5;241;43m=\u001b[39;49m\u001b[43msettings\u001b[49m\u001b[38;5;241;43m.\u001b[39;49m\u001b[43mmax_lanczos_quadrature_iterations\u001b[49m\u001b[38;5;241;43m.\u001b[39;49m\u001b[43mvalue\u001b[49m\u001b[43m(\u001b[49m\u001b[43m)\u001b[49m\u001b[43m,\u001b[49m\n\u001b[1;32m    801\u001b[0m \u001b[43m        \u001b[49m\u001b[43mpreconditioner\u001b[49m\u001b[38;5;241;43m=\u001b[39;49m\u001b[43mpreconditioner\u001b[49m\u001b[43m,\u001b[49m\n\u001b[1;32m    802\u001b[0m \u001b[43m    \u001b[49m\u001b[43m)\u001b[49m\n",
      "File \u001b[0;32m~/Python/Obs_and_exp_data/.conda/lib/python3.11/site-packages/linear_operator/utils/linear_cg.py:248\u001b[0m, in \u001b[0;36mlinear_cg\u001b[0;34m(matmul_closure, rhs, n_tridiag, tolerance, eps, stop_updating_after, max_iter, max_tridiag_iter, initial_guess, preconditioner)\u001b[0m\n\u001b[1;32m    244\u001b[0m \u001b[38;5;66;03m# Start the iteration\u001b[39;00m\n\u001b[1;32m    245\u001b[0m \u001b[38;5;28;01mfor\u001b[39;00m k \u001b[38;5;129;01min\u001b[39;00m \u001b[38;5;28mrange\u001b[39m(n_iter):\n\u001b[1;32m    246\u001b[0m     \u001b[38;5;66;03m# Get next alpha\u001b[39;00m\n\u001b[1;32m    247\u001b[0m     \u001b[38;5;66;03m# alpha_{k} = (residual_{k-1}^T precon_residual{k-1}) / (p_vec_{k-1}^T mat p_vec_{k-1})\u001b[39;00m\n\u001b[0;32m--> 248\u001b[0m     mvms \u001b[38;5;241m=\u001b[39m \u001b[43mmatmul_closure\u001b[49m\u001b[43m(\u001b[49m\u001b[43mcurr_conjugate_vec\u001b[49m\u001b[43m)\u001b[49m\n\u001b[1;32m    249\u001b[0m     \u001b[38;5;28;01mif\u001b[39;00m precond:\n\u001b[1;32m    250\u001b[0m         torch\u001b[38;5;241m.\u001b[39mmul(curr_conjugate_vec, mvms, out\u001b[38;5;241m=\u001b[39mmul_storage)\n",
      "File \u001b[0;32m~/Python/Obs_and_exp_data/.conda/lib/python3.11/site-packages/linear_operator/operators/added_diag_linear_operator.py:77\u001b[0m, in \u001b[0;36mAddedDiagLinearOperator._matmul\u001b[0;34m(self, rhs)\u001b[0m\n\u001b[1;32m     73\u001b[0m \u001b[38;5;28;01mdef\u001b[39;00m \u001b[38;5;21m_matmul\u001b[39m(\n\u001b[1;32m     74\u001b[0m     \u001b[38;5;28mself\u001b[39m: Float[LinearOperator, \u001b[38;5;124m\"\u001b[39m\u001b[38;5;124m*batch M N\u001b[39m\u001b[38;5;124m\"\u001b[39m],\n\u001b[1;32m     75\u001b[0m     rhs: Union[Float[torch\u001b[38;5;241m.\u001b[39mTensor, \u001b[38;5;124m\"\u001b[39m\u001b[38;5;124m*batch2 N C\u001b[39m\u001b[38;5;124m\"\u001b[39m], Float[torch\u001b[38;5;241m.\u001b[39mTensor, \u001b[38;5;124m\"\u001b[39m\u001b[38;5;124m*batch2 N\u001b[39m\u001b[38;5;124m\"\u001b[39m]],\n\u001b[1;32m     76\u001b[0m ) \u001b[38;5;241m-\u001b[39m\u001b[38;5;241m>\u001b[39m Union[Float[torch\u001b[38;5;241m.\u001b[39mTensor, \u001b[38;5;124m\"\u001b[39m\u001b[38;5;124m... M C\u001b[39m\u001b[38;5;124m\"\u001b[39m], Float[torch\u001b[38;5;241m.\u001b[39mTensor, \u001b[38;5;124m\"\u001b[39m\u001b[38;5;124m... M\u001b[39m\u001b[38;5;124m\"\u001b[39m]]:\n\u001b[0;32m---> 77\u001b[0m     \u001b[38;5;28;01mreturn\u001b[39;00m torch\u001b[38;5;241m.\u001b[39maddcmul(\u001b[38;5;28;43mself\u001b[39;49m\u001b[38;5;241;43m.\u001b[39;49m\u001b[43m_linear_op\u001b[49m\u001b[38;5;241;43m.\u001b[39;49m\u001b[43m_matmul\u001b[49m\u001b[43m(\u001b[49m\u001b[43mrhs\u001b[49m\u001b[43m)\u001b[49m, \u001b[38;5;28mself\u001b[39m\u001b[38;5;241m.\u001b[39m_diag_tensor\u001b[38;5;241m.\u001b[39m_diag\u001b[38;5;241m.\u001b[39munsqueeze(\u001b[38;5;241m-\u001b[39m\u001b[38;5;241m1\u001b[39m), rhs)\n",
      "File \u001b[0;32m~/Python/Obs_and_exp_data/.conda/lib/python3.11/site-packages/linear_operator/operators/sum_linear_operator.py:50\u001b[0m, in \u001b[0;36mSumLinearOperator._matmul\u001b[0;34m(self, rhs)\u001b[0m\n\u001b[1;32m     46\u001b[0m \u001b[38;5;28;01mdef\u001b[39;00m \u001b[38;5;21m_matmul\u001b[39m(\n\u001b[1;32m     47\u001b[0m     \u001b[38;5;28mself\u001b[39m: Float[LinearOperator, \u001b[38;5;124m\"\u001b[39m\u001b[38;5;124m*batch M N\u001b[39m\u001b[38;5;124m\"\u001b[39m],\n\u001b[1;32m     48\u001b[0m     rhs: Union[Float[torch\u001b[38;5;241m.\u001b[39mTensor, \u001b[38;5;124m\"\u001b[39m\u001b[38;5;124m*batch2 N C\u001b[39m\u001b[38;5;124m\"\u001b[39m], Float[torch\u001b[38;5;241m.\u001b[39mTensor, \u001b[38;5;124m\"\u001b[39m\u001b[38;5;124m*batch2 N\u001b[39m\u001b[38;5;124m\"\u001b[39m]],\n\u001b[1;32m     49\u001b[0m ) \u001b[38;5;241m-\u001b[39m\u001b[38;5;241m>\u001b[39m Union[Float[torch\u001b[38;5;241m.\u001b[39mTensor, \u001b[38;5;124m\"\u001b[39m\u001b[38;5;124m... M C\u001b[39m\u001b[38;5;124m\"\u001b[39m], Float[torch\u001b[38;5;241m.\u001b[39mTensor, \u001b[38;5;124m\"\u001b[39m\u001b[38;5;124m... M\u001b[39m\u001b[38;5;124m\"\u001b[39m]]:\n\u001b[0;32m---> 50\u001b[0m     \u001b[38;5;28;01mreturn\u001b[39;00m \u001b[38;5;28msum\u001b[39m(linear_op\u001b[38;5;241m.\u001b[39m_matmul(rhs) \u001b[38;5;28;01mfor\u001b[39;00m linear_op \u001b[38;5;129;01min\u001b[39;00m \u001b[38;5;28mself\u001b[39m\u001b[38;5;241m.\u001b[39mlinear_ops)\n",
      "File \u001b[0;32m~/Python/Obs_and_exp_data/.conda/lib/python3.11/site-packages/linear_operator/operators/sum_linear_operator.py:50\u001b[0m, in \u001b[0;36m<genexpr>\u001b[0;34m(.0)\u001b[0m\n\u001b[1;32m     46\u001b[0m \u001b[38;5;28;01mdef\u001b[39;00m \u001b[38;5;21m_matmul\u001b[39m(\n\u001b[1;32m     47\u001b[0m     \u001b[38;5;28mself\u001b[39m: Float[LinearOperator, \u001b[38;5;124m\"\u001b[39m\u001b[38;5;124m*batch M N\u001b[39m\u001b[38;5;124m\"\u001b[39m],\n\u001b[1;32m     48\u001b[0m     rhs: Union[Float[torch\u001b[38;5;241m.\u001b[39mTensor, \u001b[38;5;124m\"\u001b[39m\u001b[38;5;124m*batch2 N C\u001b[39m\u001b[38;5;124m\"\u001b[39m], Float[torch\u001b[38;5;241m.\u001b[39mTensor, \u001b[38;5;124m\"\u001b[39m\u001b[38;5;124m*batch2 N\u001b[39m\u001b[38;5;124m\"\u001b[39m]],\n\u001b[1;32m     49\u001b[0m ) \u001b[38;5;241m-\u001b[39m\u001b[38;5;241m>\u001b[39m Union[Float[torch\u001b[38;5;241m.\u001b[39mTensor, \u001b[38;5;124m\"\u001b[39m\u001b[38;5;124m... M C\u001b[39m\u001b[38;5;124m\"\u001b[39m], Float[torch\u001b[38;5;241m.\u001b[39mTensor, \u001b[38;5;124m\"\u001b[39m\u001b[38;5;124m... M\u001b[39m\u001b[38;5;124m\"\u001b[39m]]:\n\u001b[0;32m---> 50\u001b[0m     \u001b[38;5;28;01mreturn\u001b[39;00m \u001b[38;5;28msum\u001b[39m(\u001b[43mlinear_op\u001b[49m\u001b[38;5;241;43m.\u001b[39;49m\u001b[43m_matmul\u001b[49m\u001b[43m(\u001b[49m\u001b[43mrhs\u001b[49m\u001b[43m)\u001b[49m \u001b[38;5;28;01mfor\u001b[39;00m linear_op \u001b[38;5;129;01min\u001b[39;00m \u001b[38;5;28mself\u001b[39m\u001b[38;5;241m.\u001b[39mlinear_ops)\n",
      "File \u001b[0;32m~/Python/Obs_and_exp_data/.conda/lib/python3.11/site-packages/linear_operator/operators/dense_linear_operator.py:65\u001b[0m, in \u001b[0;36mDenseLinearOperator._matmul\u001b[0;34m(self, rhs)\u001b[0m\n\u001b[1;32m     61\u001b[0m \u001b[38;5;28;01mdef\u001b[39;00m \u001b[38;5;21m_matmul\u001b[39m(\n\u001b[1;32m     62\u001b[0m     \u001b[38;5;28mself\u001b[39m: Float[LinearOperator, \u001b[38;5;124m\"\u001b[39m\u001b[38;5;124m*batch M N\u001b[39m\u001b[38;5;124m\"\u001b[39m],\n\u001b[1;32m     63\u001b[0m     rhs: Union[Float[torch\u001b[38;5;241m.\u001b[39mTensor, \u001b[38;5;124m\"\u001b[39m\u001b[38;5;124m*batch2 N C\u001b[39m\u001b[38;5;124m\"\u001b[39m], Float[torch\u001b[38;5;241m.\u001b[39mTensor, \u001b[38;5;124m\"\u001b[39m\u001b[38;5;124m*batch2 N\u001b[39m\u001b[38;5;124m\"\u001b[39m]],\n\u001b[1;32m     64\u001b[0m ) \u001b[38;5;241m-\u001b[39m\u001b[38;5;241m>\u001b[39m Union[Float[torch\u001b[38;5;241m.\u001b[39mTensor, \u001b[38;5;124m\"\u001b[39m\u001b[38;5;124m... M C\u001b[39m\u001b[38;5;124m\"\u001b[39m], Float[torch\u001b[38;5;241m.\u001b[39mTensor, \u001b[38;5;124m\"\u001b[39m\u001b[38;5;124m... M\u001b[39m\u001b[38;5;124m\"\u001b[39m]]:\n\u001b[0;32m---> 65\u001b[0m     \u001b[38;5;28;01mreturn\u001b[39;00m \u001b[43mtorch\u001b[49m\u001b[38;5;241;43m.\u001b[39;49m\u001b[43mmatmul\u001b[49m\u001b[43m(\u001b[49m\u001b[38;5;28;43mself\u001b[39;49m\u001b[38;5;241;43m.\u001b[39;49m\u001b[43mtensor\u001b[49m\u001b[43m,\u001b[49m\u001b[43m \u001b[49m\u001b[43mrhs\u001b[49m\u001b[43m)\u001b[49m\n",
      "\u001b[0;31mKeyboardInterrupt\u001b[0m: "
     ]
    }
   ],
   "source": [
    "CATE_FIXED = (model_fixed.CATE(X_in_dist).mean)"
   ]
  },
  {
   "cell_type": "code",
   "execution_count": null,
   "metadata": {},
   "outputs": [
    {
     "data": {
      "text/plain": [
       "tensor(0.0240, grad_fn=<StdBackward0>)"
      ]
     },
     "execution_count": 228,
     "metadata": {},
     "output_type": "execute_result"
    }
   ],
   "source": [
    "CATE_FIXED.std()"
   ]
  },
  {
   "cell_type": "code",
   "execution_count": null,
   "metadata": {},
   "outputs": [
    {
     "data": {
      "text/plain": [
       "tensor([-0.0211, -0.0585, -0.0130,  ..., -0.0565, -0.0343, -0.0330],\n",
       "       grad_fn=<ViewBackward0>)"
      ]
     },
     "execution_count": 229,
     "metadata": {},
     "output_type": "execute_result"
    }
   ],
   "source": [
    "CATE_FIXED"
   ]
  },
  {
   "cell_type": "code",
   "execution_count": null,
   "metadata": {},
   "outputs": [
    {
     "data": {
      "text/plain": [
       "tensor([-1.4108,  0.8968,  0.3211,  ..., -1.6206, -1.5650, -2.0352],\n",
       "       grad_fn=<SubBackward0>)"
      ]
     },
     "execution_count": 230,
     "metadata": {},
     "output_type": "execute_result"
    }
   ],
   "source": [
    "CATE_GAP_func(X_in_dist)"
   ]
  },
  {
   "cell_type": "code",
   "execution_count": null,
   "metadata": {},
   "outputs": [
    {
     "data": {
      "text/plain": [
       "tensor(1.8934, grad_fn=<MeanBackward0>)"
      ]
     },
     "execution_count": 231,
     "metadata": {},
     "output_type": "execute_result"
    }
   ],
   "source": [
    "((model_fixed.CATE(X_in_dist).mean - CATE_GAP_func(X_in_dist))**2).mean()"
   ]
  },
  {
   "cell_type": "code",
   "execution_count": null,
   "metadata": {},
   "outputs": [
    {
     "data": {
      "text/plain": [
       "GaussianLikelihood(\n",
       "  (noise_covar): HomoskedasticNoise(\n",
       "    (raw_noise_constraint): GreaterThan(1.000E-04)\n",
       "  )\n",
       ")"
      ]
     },
     "execution_count": 232,
     "metadata": {},
     "output_type": "execute_result"
    }
   ],
   "source": [
    "likelihood = gpytorch.likelihoods.GaussianLikelihood()\n",
    "\n",
    "model_standard = PseudoOutcome_StandardGPModel((pseudo_data_adjusted.X, pseudo_data_adjusted.T), pseudo_data_adjusted.Y, likelihood,p_score=T_prop)\n",
    "\n",
    "model_standard.train()\n",
    "likelihood.train()\n",
    "\n",
    "# Use the adam optimizer\n",
    "optimizer = torch.optim.Adam(model_standard.parameters(), lr=0.1)  # Includes GaussianLikelihood parameters\n",
    "\n",
    "# \"Loss\" for GPs - the marginal log likelihood\n",
    "mll = gpytorch.mlls.ExactMarginalLogLikelihood(likelihood, model_standard)\n",
    "\n",
    "# for i in range(training_iterations):\n",
    "#     optimizer.zero_grad()\n",
    "#     output = model_standard(pseudo_data_adjusted.X, pseudo_data_adjusted.T)\n",
    "#     loss = -mll(output, pseudo_data_adjusted.Y)\n",
    "#     loss.backward(retain_graph=True)\n",
    "#     print('Iter %d/50 - Loss: %.3f' % (i + 1, loss.item()))\n",
    "#     optimizer.step()\n",
    "\n",
    "model_standard.eval()\n",
    "likelihood.eval()"
   ]
  },
  {
   "cell_type": "code",
   "execution_count": null,
   "metadata": {},
   "outputs": [
    {
     "name": "stdout",
     "output_type": "stream",
     "text": [
      "Parameter name: likelihood.noise_covar.raw_noise           value = 0.0\n",
      "Parameter name: mean_module.raw_constant                   value = 0.0\n",
      "Parameter name: covar_module.raw_lengthscale               value = -0.03529920056462288\n"
     ]
    }
   ],
   "source": [
    "for param_name, param in model_standard.named_parameters():\n",
    "    print(f'Parameter name: {param_name:42} value = {param.item()}')"
   ]
  },
  {
   "cell_type": "code",
   "execution_count": null,
   "metadata": {},
   "outputs": [
    {
     "data": {
      "text/plain": [
       "tensor([-3.1263e-05, -2.8371e-05,  3.7176e-05,  ..., -8.6265e-05,\n",
       "        -1.9141e-06, -1.1041e-04], grad_fn=<ViewBackward0>)"
      ]
     },
     "execution_count": 234,
     "metadata": {},
     "output_type": "execute_result"
    }
   ],
   "source": [
    "model_standard.CATE(X_in_dist).mean"
   ]
  },
  {
   "cell_type": "code",
   "execution_count": null,
   "metadata": {},
   "outputs": [
    {
     "data": {
      "text/plain": [
       "tensor(1.8876, grad_fn=<MeanBackward0>)"
      ]
     },
     "execution_count": 235,
     "metadata": {},
     "output_type": "execute_result"
    }
   ],
   "source": [
    "((model_standard.CATE(X_in_dist).mean - CATE_GAP_func(X_in_dist))**2).mean()"
   ]
  },
  {
   "cell_type": "code",
   "execution_count": null,
   "metadata": {},
   "outputs": [
    {
     "data": {
      "text/plain": [
       "GaussianLikelihood(\n",
       "  (noise_covar): HomoskedasticNoise(\n",
       "    (raw_noise_constraint): GreaterThan(1.000E-04)\n",
       "  )\n",
       ")"
      ]
     },
     "execution_count": 236,
     "metadata": {},
     "output_type": "execute_result"
    }
   ],
   "source": [
    "likelihood = gpytorch.likelihoods.GaussianLikelihood()\n",
    "\n",
    "model_trained = TrainedPseudoOutcome_MultitaskGPModel((pseudo_data_adjusted.X, pseudo_data_adjusted.T), pseudo_data_adjusted.Y, likelihood,p_score=T_prop)\n",
    "\n",
    "model_trained.train()\n",
    "likelihood.train()\n",
    "\n",
    "# Use the adam optimizer\n",
    "optimizer = torch.optim.Adam(model_trained.parameters(), lr=0.1)  # Includes GaussianLikelihood parameters\n",
    "\n",
    "# \"Loss\" for GPs - the marginal log likelihood\n",
    "mll = gpytorch.mlls.ExactMarginalLogLikelihood(likelihood, model_trained)\n",
    "\n",
    "# for i in range(training_iterations):\n",
    "#     optimizer.zero_grad()\n",
    "#     output = model_trained(pseudo_data_adjusted.X, pseudo_data_adjusted.T)\n",
    "#     loss = -mll(output, pseudo_data_adjusted.Y)\n",
    "#     loss.backward(retain_graph=True)\n",
    "#     print('Iter %d/50 - Loss: %.3f' % (i + 1, loss.item()))\n",
    "#     optimizer.step()\n",
    "\n",
    "model_trained.eval()\n",
    "likelihood.eval()"
   ]
  },
  {
   "cell_type": "code",
   "execution_count": null,
   "metadata": {},
   "outputs": [
    {
     "data": {
      "text/plain": [
       "tensor(1.8876, grad_fn=<MeanBackward0>)"
      ]
     },
     "execution_count": 237,
     "metadata": {},
     "output_type": "execute_result"
    }
   ],
   "source": [
    "((model_trained.CATE(X_in_dist).mean - CATE_GAP_func(X_in_dist))**2).mean()"
   ]
  },
  {
   "cell_type": "code",
   "execution_count": null,
   "metadata": {},
   "outputs": [
    {
     "name": "stdout",
     "output_type": "stream",
     "text": [
      "Parameter name: likelihood.noise_covar.raw_noise           value = 0.0\n",
      "Parameter name: mean_module.raw_constant                   value = 0.0\n",
      "Parameter name: covar_module_CATE.raw_lengthscale          value = 0.0\n",
      "Parameter name: covar_module_nuisance.raw_lengthscale      value = 0.0\n"
     ]
    },
    {
     "ename": "RuntimeError",
     "evalue": "a Tensor with 2 elements cannot be converted to Scalar",
     "output_type": "error",
     "traceback": [
      "\u001b[0;31m---------------------------------------------------------------------------\u001b[0m",
      "\u001b[0;31mRuntimeError\u001b[0m                              Traceback (most recent call last)",
      "Cell \u001b[0;32mIn[238], line 2\u001b[0m\n\u001b[1;32m      1\u001b[0m \u001b[38;5;28;01mfor\u001b[39;00m param_name, param \u001b[38;5;129;01min\u001b[39;00m model_trained\u001b[38;5;241m.\u001b[39mnamed_parameters():\n\u001b[0;32m----> 2\u001b[0m     \u001b[38;5;28mprint\u001b[39m(\u001b[38;5;124mf\u001b[39m\u001b[38;5;124m'\u001b[39m\u001b[38;5;124mParameter name: \u001b[39m\u001b[38;5;132;01m{\u001b[39;00mparam_name\u001b[38;5;132;01m:\u001b[39;00m\u001b[38;5;124m42\u001b[39m\u001b[38;5;132;01m}\u001b[39;00m\u001b[38;5;124m value = \u001b[39m\u001b[38;5;132;01m{\u001b[39;00m\u001b[43mparam\u001b[49m\u001b[38;5;241;43m.\u001b[39;49m\u001b[43mitem\u001b[49m\u001b[43m(\u001b[49m\u001b[43m)\u001b[49m\u001b[38;5;132;01m}\u001b[39;00m\u001b[38;5;124m'\u001b[39m)\n",
      "\u001b[0;31mRuntimeError\u001b[0m: a Tensor with 2 elements cannot be converted to Scalar"
     ]
    }
   ],
   "source": [
    "for param_name, param in model_trained.named_parameters():\n",
    "    print(f'Parameter name: {param_name:42} value = {param.item()}')"
   ]
  },
  {
   "cell_type": "code",
   "execution_count": null,
   "metadata": {},
   "outputs": [
    {
     "ename": "NameError",
     "evalue": "name 'model' is not defined",
     "output_type": "error",
     "traceback": [
      "\u001b[0;31m---------------------------------------------------------------------------\u001b[0m",
      "\u001b[0;31mNameError\u001b[0m                                 Traceback (most recent call last)",
      "Cell \u001b[0;32mIn[232], line 1\u001b[0m\n\u001b[0;32m----> 1\u001b[0m \u001b[38;5;28mself\u001b[39m \u001b[38;5;241m=\u001b[39m \u001b[43mmodel\u001b[49m\n\u001b[1;32m      2\u001b[0m x \u001b[38;5;241m=\u001b[39m X_plot\n",
      "\u001b[0;31mNameError\u001b[0m: name 'model' is not defined"
     ]
    }
   ],
   "source": [
    "self = model\n",
    "x = X_plot"
   ]
  },
  {
   "cell_type": "code",
   "execution_count": null,
   "metadata": {},
   "outputs": [],
   "source": [
    "t0 = torch.full((x.shape[0],1), dtype=torch.long, fill_value=0)\n",
    "t1 = torch.full((x.shape[0],1), dtype=torch.long, fill_value=1)\n",
    "\n",
    "n = x.shape[0]\n",
    "\n",
    "guas_cross = self(torch.cat([x,x]) ,torch.cat([t1,t0]))\n",
    "CATE_mean = self.p_score*guas_cross.mean[:n] + (1-self.p_score)*guas_cross.mean[n:]\n",
    "CATE_covar = (self.p_score**2)*torch.diag(guas_cross.variance[:n]) + (1-self.p_score)**2*torch.diag(guas_cross.variance[n:]) + (1-self.p_score)*self.p_score*(guas_cross.covariance_matrix[:n,n:] + guas_cross.covariance_matrix[n:,:n])\n",
    "CATE_covar = CATE_covar.diag()\n",
    "CATE_covar[CATE_covar<1e-06] = 1e-06\n",
    "CATE_covar = torch.diag(CATE_covar)"
   ]
  },
  {
   "cell_type": "code",
   "execution_count": null,
   "metadata": {},
   "outputs": [
    {
     "data": {
      "text/plain": [
       "MultivariateNormal(loc: torch.Size([1000]), covariance_matrix: torch.Size([1000, 1000]))"
      ]
     },
     "execution_count": 38,
     "metadata": {},
     "output_type": "execute_result"
    }
   ],
   "source": [
    "gpytorch.distributions.MultivariateNormal(CATE_mean, CATE_covar)"
   ]
  },
  {
   "cell_type": "code",
   "execution_count": null,
   "metadata": {},
   "outputs": [
    {
     "data": {
      "text/plain": [
       "tensor(0., grad_fn=<MinBackward1>)"
      ]
     },
     "execution_count": 27,
     "metadata": {},
     "output_type": "execute_result"
    }
   ],
   "source": [
    "CATE_covar.min()"
   ]
  },
  {
   "cell_type": "code",
   "execution_count": null,
   "metadata": {},
   "outputs": [
    {
     "data": {
      "text/plain": [
       "tensor(0.0047, grad_fn=<MinBackward1>)"
      ]
     },
     "execution_count": 28,
     "metadata": {},
     "output_type": "execute_result"
    }
   ],
   "source": [
    "guas_cross.covariance_matrix[:n,:n].diag().min()"
   ]
  },
  {
   "cell_type": "code",
   "execution_count": null,
   "metadata": {},
   "outputs": [
    {
     "data": {
      "text/plain": [
       "tensor(12.0723, grad_fn=<MaxBackward1>)"
      ]
     },
     "execution_count": 29,
     "metadata": {},
     "output_type": "execute_result"
    }
   ],
   "source": [
    "guas_cross.covariance_matrix[n:,n:].diag().max()"
   ]
  },
  {
   "cell_type": "code",
   "execution_count": null,
   "metadata": {},
   "outputs": [
    {
     "data": {
      "text/plain": [
       "tensor(-22.0633, grad_fn=<MinBackward1>)"
      ]
     },
     "execution_count": 30,
     "metadata": {},
     "output_type": "execute_result"
    }
   ],
   "source": [
    "(guas_cross.covariance_matrix[:n,n:] + guas_cross.covariance_matrix[n:,:n]).diag().min()"
   ]
  },
  {
   "cell_type": "code",
   "execution_count": null,
   "metadata": {},
   "outputs": [
    {
     "data": {
      "text/plain": [
       "tensor(0.0040, grad_fn=<MinBackward1>)"
      ]
     },
     "execution_count": 31,
     "metadata": {},
     "output_type": "execute_result"
    }
   ],
   "source": [
    "guas_cross.variance.min()"
   ]
  },
  {
   "cell_type": "code",
   "execution_count": null,
   "metadata": {},
   "outputs": [
    {
     "data": {
      "text/plain": [
       "tensor(0.0047, grad_fn=<MinBackward1>)"
      ]
     },
     "execution_count": 32,
     "metadata": {},
     "output_type": "execute_result"
    }
   ],
   "source": [
    "guas_cross.covariance_matrix[:n,:n].diag().min()"
   ]
  },
  {
   "cell_type": "code",
   "execution_count": null,
   "metadata": {},
   "outputs": [
    {
     "data": {
      "text/plain": [
       "tensor(0.0027, grad_fn=<MinBackward1>)"
      ]
     },
     "execution_count": 33,
     "metadata": {},
     "output_type": "execute_result"
    }
   ],
   "source": [
    "CATE_covar.diag().min()"
   ]
  },
  {
   "cell_type": "code",
   "execution_count": null,
   "metadata": {},
   "outputs": [
    {
     "ename": "ValueError",
     "evalue": "covariance_matrix must be at least two-dimensional, with optional leading batch dimensions",
     "output_type": "error",
     "traceback": [
      "\u001b[0;31m---------------------------------------------------------------------------\u001b[0m",
      "\u001b[0;31mValueError\u001b[0m                                Traceback (most recent call last)",
      "Cell \u001b[0;32mIn[34], line 6\u001b[0m\n\u001b[1;32m      3\u001b[0m CATE_GAP_func \u001b[38;5;241m=\u001b[39m return_CATE_GAP(outcome_funcs_GP)\n\u001b[1;32m      5\u001b[0m Y_true_CATE_GAP \u001b[38;5;241m=\u001b[39m CATE_GAP_func(X_plot)\n\u001b[0;32m----> 6\u001b[0m CATE_pred_guas \u001b[38;5;241m=\u001b[39m \u001b[43mmodel\u001b[49m\u001b[38;5;241;43m.\u001b[39;49m\u001b[43mCATE\u001b[49m\u001b[43m(\u001b[49m\u001b[43mX_plot\u001b[49m\u001b[43m)\u001b[49m\n\u001b[1;32m      7\u001b[0m region_lower,region_upper \u001b[38;5;241m=\u001b[39m CATE_pred_guas\u001b[38;5;241m.\u001b[39mconfidence_region()\n\u001b[1;32m      8\u001b[0m X_plot \u001b[38;5;241m=\u001b[39m torch\u001b[38;5;241m.\u001b[39mlinspace(\u001b[38;5;241m-\u001b[39m\u001b[38;5;241m3\u001b[39m, \u001b[38;5;241m3\u001b[39m, \u001b[38;5;241m1000\u001b[39m)\n",
      "File \u001b[0;32m~/Python/Obs_and_exp_data/src/GP/GP.py:97\u001b[0m, in \u001b[0;36mTrainedPseudoOutcome_MultitaskGPModel.CATE\u001b[0;34m(self, x)\u001b[0m\n\u001b[1;32m     95\u001b[0m CATE_covar[CATE_covar\u001b[38;5;241m<\u001b[39m\u001b[38;5;241m1e-06\u001b[39m] \u001b[38;5;241m=\u001b[39m \u001b[38;5;241m1e-06\u001b[39m\n\u001b[1;32m     96\u001b[0m CATE_covar \u001b[38;5;241m=\u001b[39m torch\u001b[38;5;241m.\u001b[39mdiag(CATE_covar\u001b[38;5;241m.\u001b[39mdiag())\n\u001b[0;32m---> 97\u001b[0m \u001b[38;5;28;01mreturn\u001b[39;00m \u001b[43mgpytorch\u001b[49m\u001b[38;5;241;43m.\u001b[39;49m\u001b[43mdistributions\u001b[49m\u001b[38;5;241;43m.\u001b[39;49m\u001b[43mMultivariateNormal\u001b[49m\u001b[43m(\u001b[49m\u001b[43mCATE_mean\u001b[49m\u001b[43m,\u001b[49m\u001b[43m \u001b[49m\u001b[43mCATE_covar\u001b[49m\u001b[43m)\u001b[49m\n",
      "File \u001b[0;32m~/Python/Obs_and_exp_data/.conda/lib/python3.11/site-packages/pyro/distributions/distribution.py:26\u001b[0m, in \u001b[0;36mDistributionMeta.__call__\u001b[0;34m(cls, *args, **kwargs)\u001b[0m\n\u001b[1;32m     24\u001b[0m     \u001b[38;5;28;01mif\u001b[39;00m result \u001b[38;5;129;01mis\u001b[39;00m \u001b[38;5;129;01mnot\u001b[39;00m \u001b[38;5;28;01mNone\u001b[39;00m:\n\u001b[1;32m     25\u001b[0m         \u001b[38;5;28;01mreturn\u001b[39;00m result\n\u001b[0;32m---> 26\u001b[0m \u001b[38;5;28;01mreturn\u001b[39;00m \u001b[38;5;28;43msuper\u001b[39;49m\u001b[43m(\u001b[49m\u001b[43m)\u001b[49m\u001b[38;5;241;43m.\u001b[39;49m\u001b[38;5;21;43m__call__\u001b[39;49m\u001b[43m(\u001b[49m\u001b[38;5;241;43m*\u001b[39;49m\u001b[43margs\u001b[49m\u001b[43m,\u001b[49m\u001b[43m \u001b[49m\u001b[38;5;241;43m*\u001b[39;49m\u001b[38;5;241;43m*\u001b[39;49m\u001b[43mkwargs\u001b[49m\u001b[43m)\u001b[49m\n",
      "File \u001b[0;32m~/Python/Obs_and_exp_data/.conda/lib/python3.11/site-packages/gpytorch/distributions/multivariate_normal.py:65\u001b[0m, in \u001b[0;36mMultivariateNormal.__init__\u001b[0;34m(self, mean, covariance_matrix, validate_args)\u001b[0m\n\u001b[1;32m     63\u001b[0m     \u001b[38;5;28msuper\u001b[39m(TMultivariateNormal, \u001b[38;5;28mself\u001b[39m)\u001b[38;5;241m.\u001b[39m\u001b[38;5;21m__init__\u001b[39m(batch_shape, event_shape, validate_args\u001b[38;5;241m=\u001b[39m\u001b[38;5;28;01mFalse\u001b[39;00m)\n\u001b[1;32m     64\u001b[0m \u001b[38;5;28;01melse\u001b[39;00m:\n\u001b[0;32m---> 65\u001b[0m     \u001b[38;5;28;43msuper\u001b[39;49m\u001b[43m(\u001b[49m\u001b[43m)\u001b[49m\u001b[38;5;241;43m.\u001b[39;49m\u001b[38;5;21;43m__init__\u001b[39;49m\u001b[43m(\u001b[49m\u001b[43mloc\u001b[49m\u001b[38;5;241;43m=\u001b[39;49m\u001b[43mmean\u001b[49m\u001b[43m,\u001b[49m\u001b[43m \u001b[49m\u001b[43mcovariance_matrix\u001b[49m\u001b[38;5;241;43m=\u001b[39;49m\u001b[43mcovariance_matrix\u001b[49m\u001b[43m,\u001b[49m\u001b[43m \u001b[49m\u001b[43mvalidate_args\u001b[49m\u001b[38;5;241;43m=\u001b[39;49m\u001b[43mvalidate_args\u001b[49m\u001b[43m)\u001b[49m\n",
      "File \u001b[0;32m~/Python/Obs_and_exp_data/.conda/lib/python3.11/site-packages/torch/distributions/multivariate_normal.py:157\u001b[0m, in \u001b[0;36mMultivariateNormal.__init__\u001b[0;34m(self, loc, covariance_matrix, precision_matrix, scale_tril, validate_args)\u001b[0m\n\u001b[1;32m    155\u001b[0m \u001b[38;5;28;01melif\u001b[39;00m covariance_matrix \u001b[38;5;129;01mis\u001b[39;00m \u001b[38;5;129;01mnot\u001b[39;00m \u001b[38;5;28;01mNone\u001b[39;00m:\n\u001b[1;32m    156\u001b[0m     \u001b[38;5;28;01mif\u001b[39;00m covariance_matrix\u001b[38;5;241m.\u001b[39mdim() \u001b[38;5;241m<\u001b[39m \u001b[38;5;241m2\u001b[39m:\n\u001b[0;32m--> 157\u001b[0m         \u001b[38;5;28;01mraise\u001b[39;00m \u001b[38;5;167;01mValueError\u001b[39;00m(\n\u001b[1;32m    158\u001b[0m             \u001b[38;5;124m\"\u001b[39m\u001b[38;5;124mcovariance_matrix must be at least two-dimensional, \u001b[39m\u001b[38;5;124m\"\u001b[39m\n\u001b[1;32m    159\u001b[0m             \u001b[38;5;124m\"\u001b[39m\u001b[38;5;124mwith optional leading batch dimensions\u001b[39m\u001b[38;5;124m\"\u001b[39m\n\u001b[1;32m    160\u001b[0m         )\n\u001b[1;32m    161\u001b[0m     batch_shape \u001b[38;5;241m=\u001b[39m torch\u001b[38;5;241m.\u001b[39mbroadcast_shapes(\n\u001b[1;32m    162\u001b[0m         covariance_matrix\u001b[38;5;241m.\u001b[39mshape[:\u001b[38;5;241m-\u001b[39m\u001b[38;5;241m2\u001b[39m], loc\u001b[38;5;241m.\u001b[39mshape[:\u001b[38;5;241m-\u001b[39m\u001b[38;5;241m1\u001b[39m]\n\u001b[1;32m    163\u001b[0m     )\n\u001b[1;32m    164\u001b[0m     \u001b[38;5;28mself\u001b[39m\u001b[38;5;241m.\u001b[39mcovariance_matrix \u001b[38;5;241m=\u001b[39m covariance_matrix\u001b[38;5;241m.\u001b[39mexpand(batch_shape \u001b[38;5;241m+\u001b[39m (\u001b[38;5;241m-\u001b[39m\u001b[38;5;241m1\u001b[39m, \u001b[38;5;241m-\u001b[39m\u001b[38;5;241m1\u001b[39m))\n",
      "\u001b[0;31mValueError\u001b[0m: covariance_matrix must be at least two-dimensional, with optional leading batch dimensions"
     ]
    }
   ],
   "source": [
    "X_plot = torch.linspace(-3, 3, 1000).unsqueeze(1)\n",
    "\n",
    "CATE_GAP_func = return_CATE_GAP(outcome_funcs_GP)\n",
    "\n",
    "Y_true_CATE_GAP = CATE_GAP_func(X_plot)\n",
    "CATE_pred_guas = model.CATE(X_plot)\n",
    "region_lower,region_upper = CATE_pred_guas.confidence_region()\n",
    "X_plot = torch.linspace(-3, 3, 1000)\n",
    "\n",
    "axs[2].set_axisbelow(True)\n",
    "axs[2].set_title(\"c) LCM Multi-Task GP\",y=-0.15,fontsize = 20)\n",
    "axs[2].spines['right'].set_visible(False)\n",
    "axs[2].spines['top'].set_visible(False)\n",
    "colors = [\"blue\",\"orange\"]\n",
    "\n",
    "axs[2].scatter(pseudo_data_adjusted.X,pseudo_data_adjusted.Y,c=[colors[i] for i  in pseudo_data.T.int().tolist()],s=14,alpha=0.8)\n",
    "\n",
    "axs[2].plot(X_plot, Y_true_CATE_GAP, 'k-', label=r'$f(x)$',linewidth=2.0,color=\"r\")\n",
    "\n",
    "axs[2].fill_between(X_plot.detach(),\n",
    "            y1=region_lower.detach(),y2=region_upper.detach(),\n",
    "            alpha=.2, fc='b', ec='None', label= 'Our approach')"
   ]
  },
  {
   "cell_type": "code",
   "execution_count": null,
   "metadata": {},
   "outputs": [
    {
     "data": {
      "text/plain": [
       "Text(0.5, 1.05, 'Bayesian Credible Intervals for CATE across GP based pseudo-outcome regressors')"
      ]
     },
     "execution_count": 37,
     "metadata": {},
     "output_type": "execute_result"
    }
   ],
   "source": [
    "fig.suptitle(\"Bayesian Credible Intervals for CATE across GP based pseudo-outcome regressors\",fontsize = 20,y=1.05)"
   ]
  },
  {
   "cell_type": "code",
   "execution_count": null,
   "metadata": {},
   "outputs": [
    {
     "data": {
      "image/png": "[encoded data removed]",
      "text/plain": [
       "<Figure size 1600x400 with 3 Axes>"
      ]
     },
     "execution_count": 38,
     "metadata": {},
     "output_type": "execute_result"
    }
   ],
   "source": [
    "fig"
   ]
  },
  {
   "cell_type": "code",
   "execution_count": null,
   "metadata": {},
   "outputs": [],
   "source": []
  },
  {
   "cell_type": "code",
   "execution_count": null,
   "metadata": {},
   "outputs": [],
   "source": [
    "handles, labels = axs[0].get_legend_handles_labels()\n",
    "labels[3],labels[1] = labels[1],labels[3]\n",
    "handles[1],handles[3] = handles[3],handles[1]\n",
    "# legend1 = axs[0].legend(*scatter.legend_elements(),\n",
    "#                     loc=\"lower left\", title=\"Classes\")\n",
    "# reverse the order\n",
    "legend2 =axs[0].legend(handles, labels,ncols=2,loc=\"upper left\")\n",
    "# axs[0].legend()"
   ]
  },
  {
   "cell_type": "code",
   "execution_count": null,
   "metadata": {},
   "outputs": [
    {
     "data": {
      "image/png": "[encoded data removed]",
      "text/plain": [
       "<Figure size 1600x400 with 3 Axes>"
      ]
     },
     "execution_count": 40,
     "metadata": {},
     "output_type": "execute_result"
    }
   ],
   "source": [
    "fig"
   ]
  },
  {
   "cell_type": "code",
   "execution_count": null,
   "metadata": {},
   "outputs": [],
   "source": [
    "d = 5\n",
    "X_d = torch.rand(n_samples_obs,d)"
   ]
  },
  {
   "cell_type": "code",
   "execution_count": null,
   "metadata": {},
   "outputs": [
    {
     "data": {
      "text/plain": [
       "tensor([ 7.0638e-02, -1.0820e+00,  7.5575e-01, -6.5676e-01, -6.2520e-01,\n",
       "         2.5928e-01,  1.8811e-01, -2.9875e-01, -2.8262e-01, -3.8895e-01,\n",
       "        -3.0830e-01, -2.8833e-01,  7.6373e-01,  6.6265e-01,  1.4787e-01,\n",
       "         2.5584e-01, -6.6008e-01, -5.7270e-01,  1.5675e-01,  1.9574e-01,\n",
       "        -4.8841e-01, -8.5211e-01, -5.2974e-01,  4.5305e-01,  2.5178e-01,\n",
       "        -1.4276e+00,  9.7498e-01, -6.0782e-01, -4.2841e-01,  7.8705e-01,\n",
       "        -3.9161e-02, -9.1059e-01, -2.6893e-01,  2.9255e-01,  4.2552e-03,\n",
       "        -1.9649e-01,  2.0254e-01,  1.4108e+00, -4.7503e-01, -3.3711e-01,\n",
       "         7.1273e-01,  6.4759e-01, -6.2665e-01, -3.7441e-01,  4.6162e-01,\n",
       "        -6.2784e-01, -7.5358e-01,  6.1429e-02, -5.3451e-01,  8.3182e-01,\n",
       "        -5.8703e-01, -1.1225e+00,  1.6939e-01, -1.1565e+00, -3.7467e-01,\n",
       "        -1.2916e+00,  5.4534e-01, -3.6052e-02,  6.8169e-02, -3.4780e-01,\n",
       "        -4.8956e-01, -2.3373e-01,  1.3097e-01, -4.2022e-01,  1.0050e-01,\n",
       "        -2.1739e-01, -4.0716e-01,  3.6096e-01,  7.8592e-01,  2.8422e-01,\n",
       "        -5.2332e-01,  3.9494e-03, -7.8774e-01, -4.0672e-01, -7.0195e-01,\n",
       "         6.7739e-02, -1.0193e+00, -1.1736e-02, -5.5259e-01, -1.5556e-01,\n",
       "        -5.2324e-01,  4.5850e-01, -7.7447e-01, -5.8069e-01, -1.2360e+00,\n",
       "        -1.1400e+00, -1.8379e-01,  5.4911e-01,  8.6926e-01, -9.7308e-01,\n",
       "        -2.5953e-01,  2.1963e-01,  4.5857e-01, -5.2706e-01, -3.9663e-01,\n",
       "        -5.3659e-01,  6.0747e-01, -7.4790e-01, -4.7437e-01, -4.7917e-01,\n",
       "         6.7923e-02, -6.1677e-01,  9.3865e-02, -5.0892e-01,  4.8023e-01,\n",
       "        -5.1943e-01,  1.3270e-01,  2.1338e-01, -1.1313e+00, -9.8780e-01,\n",
       "        -1.0218e+00, -8.8165e-01,  1.2917e-01, -4.7955e-01, -6.7661e-01,\n",
       "         8.9559e-01,  1.0169e+00, -2.3668e-01,  2.4508e-01,  4.8276e-01,\n",
       "        -6.2141e-01, -3.6369e-01, -6.9830e-01, -9.1595e-01,  9.6273e-01,\n",
       "        -5.3511e-01, -7.4896e-01, -4.1243e-01, -6.2168e-01,  1.4104e-01,\n",
       "        -1.5344e+00, -7.1998e-01, -1.5509e-01, -9.7408e-01, -5.2814e-01,\n",
       "         2.7468e-01,  1.2306e+00, -2.5089e-01, -5.6668e-01, -1.3426e+00,\n",
       "        -8.7561e-01,  2.8679e-01, -3.8157e-01,  1.1204e-01, -1.1129e+00,\n",
       "        -7.9825e-01, -6.2525e-01, -5.0796e-01, -1.0637e+00, -9.4314e-01,\n",
       "        -7.8587e-01,  2.6480e-01, -6.5564e-01,  1.1768e-01, -6.0286e-01,\n",
       "        -5.4378e-01, -3.4058e-01, -8.2162e-01, -5.7343e-01, -6.7416e-01,\n",
       "        -6.1239e-01, -1.0416e-01,  2.7304e-01, -6.1210e-01, -2.9134e-01,\n",
       "         9.6119e-01, -4.7125e-01, -1.2639e+00, -8.8089e-01, -1.7565e+00,\n",
       "        -5.4780e-02, -4.1856e-01,  1.4745e-01,  7.8682e-01, -2.3170e-01,\n",
       "         9.8650e-02, -2.0026e-01, -1.3887e+00,  6.9977e-02, -5.6116e-01,\n",
       "        -7.2531e-01, -7.7193e-01, -4.5641e-01, -3.5399e-02,  1.8905e-01,\n",
       "        -1.6160e-01, -2.1357e-03,  4.4039e-01,  4.6755e-01,  4.1784e-01,\n",
       "        -2.7228e-01, -8.2896e-01,  1.6143e-02, -5.8726e-01,  3.0353e-01,\n",
       "         3.0038e-01, -2.5453e-01, -1.1900e+00, -3.9377e-01,  4.5035e-01,\n",
       "         2.8271e-01, -5.6698e-01, -5.8814e-02,  1.6360e-01, -1.4493e+00,\n",
       "        -1.3205e+00,  1.9240e-02, -1.6404e-01, -7.2472e-01, -4.2020e-01,\n",
       "         1.6584e+00, -7.7160e-01,  6.1136e-01, -5.5197e-01, -1.0659e-01,\n",
       "        -3.9039e-01, -8.9130e-01, -1.1575e+00,  3.7400e-01,  3.4066e-01,\n",
       "        -2.1454e-01,  7.5407e-01, -1.0466e+00,  1.7336e-01, -7.4734e-01,\n",
       "         8.5131e-02, -8.0168e-01, -7.4608e-01, -1.2675e+00, -4.6402e-01,\n",
       "        -1.0347e+00,  5.5640e-01, -1.0310e+00, -1.1041e-01, -7.1609e-01,\n",
       "        -2.1016e-01,  1.9039e-01, -2.2844e-02, -4.5335e-01, -9.6917e-01,\n",
       "         1.1438e-01, -1.1093e-02, -7.2590e-02,  7.3040e-01,  2.5393e-01,\n",
       "         8.8769e-01, -4.0334e-01, -1.3420e+00,  1.3396e-01,  5.7417e-01,\n",
       "        -7.2164e-01,  5.8562e-01, -4.0276e-01, -1.1738e-01, -9.0931e-02,\n",
       "        -9.2930e-01, -1.3312e-01, -8.0438e-01, -3.9429e-01,  7.0735e-02,\n",
       "        -1.1315e+00, -1.8919e-01,  1.3426e+00, -1.1541e+00, -7.8707e-01,\n",
       "        -1.7899e-01, -4.1842e-01,  3.4434e-01, -7.6756e-01, -2.4412e-01,\n",
       "        -1.0409e-01, -3.2358e-01,  1.9782e-01,  1.0263e-01, -7.3208e-01,\n",
       "        -3.2644e-01, -8.5458e-01,  1.7504e-01, -1.5095e-01,  8.0033e-01,\n",
       "        -1.1808e+00, -1.6143e+00, -1.0805e+00, -7.6701e-01,  2.8679e-01,\n",
       "        -1.2217e-01, -6.1234e-01, -4.0886e-01, -1.0008e+00, -3.5294e-01,\n",
       "         1.9230e-01, -3.9283e-01,  8.0030e-01, -5.2699e-01, -3.8638e-01,\n",
       "         1.3353e+00, -1.2867e-01, -2.6101e-01, -2.7300e-01,  3.2895e-01,\n",
       "        -1.7953e-01, -6.1265e-01, -2.1306e-01,  1.1780e-02,  3.8016e-01,\n",
       "         4.0771e-01, -7.6670e-02, -8.4756e-02, -4.2236e-02, -3.5693e-01,\n",
       "         3.0682e-01,  8.0401e-01, -5.8096e-01,  6.4676e-01,  9.2255e-01,\n",
       "        -5.1145e-01, -2.8333e-01, -4.6946e-01, -2.2487e-01, -5.7162e-01,\n",
       "         2.3538e-01, -5.5089e-01, -2.3428e-02, -1.2004e-01,  3.3108e-01,\n",
       "        -5.2270e-01, -4.1354e-01,  1.6049e-01,  4.7448e-01, -6.4637e-01,\n",
       "        -1.9811e+00,  6.3569e-01, -1.1800e+00, -4.2451e-01, -8.6700e-01,\n",
       "        -3.6731e-01, -1.5902e-01, -6.3475e-01, -8.4218e-01,  7.2104e-01,\n",
       "        -4.5640e-01,  4.6073e-01, -1.8123e-01, -2.2709e-01, -4.9410e-01,\n",
       "        -5.6081e-01, -5.3431e-01, -7.6044e-01,  3.5881e-01, -9.2519e-01,\n",
       "        -9.3778e-01, -4.0634e-01, -6.8295e-01, -5.4648e-01, -1.3538e+00,\n",
       "        -2.2064e-01, -6.5888e-01, -1.4232e+00, -7.9967e-01,  1.0507e-01,\n",
       "        -3.4442e-02,  3.9848e-01, -7.7067e-01, -1.9082e-01, -5.6533e-01,\n",
       "         1.9810e-01,  1.1474e-01, -1.7985e-01, -6.5727e-01,  5.5400e-01,\n",
       "        -7.1963e-02, -3.1082e-01,  1.9037e-01, -2.9358e-01, -2.4344e-02,\n",
       "        -1.1261e+00, -8.2381e-01, -9.0397e-01,  2.8288e-01, -5.2772e-02,\n",
       "        -2.4667e-01,  3.6449e-01, -4.2749e-01, -9.3020e-01, -7.0193e-01,\n",
       "         8.8466e-01,  2.7214e-02, -6.6054e-02, -9.6083e-01,  1.7593e-01,\n",
       "        -5.7821e-01, -6.5562e-01, -6.0100e-01, -4.9943e-01, -8.3160e-02,\n",
       "        -1.6038e-01,  5.5432e-01, -6.4392e-01,  1.6090e-01, -2.9781e-01,\n",
       "        -1.2543e-01,  3.9172e-01,  5.6136e-02, -3.6172e-01, -2.1462e-01,\n",
       "         1.3999e-01, -9.8074e-01, -9.0960e-01,  2.4936e-02, -5.9036e-01,\n",
       "        -8.6279e-02,  1.3550e-01, -2.8180e-01, -9.7144e-01,  2.7811e-01,\n",
       "        -6.4049e-01,  3.7424e-01,  5.9951e-02, -7.0595e-01, -9.6960e-01,\n",
       "         9.9298e-01, -4.0406e-01,  7.9639e-01, -1.3293e+00, -9.0794e-01,\n",
       "        -6.9670e-01,  9.1568e-01, -4.5037e-01,  8.3894e-01, -5.8657e-04,\n",
       "         2.7683e-01,  1.0225e-01, -5.5677e-01, -5.6593e-01, -3.4706e-02,\n",
       "        -2.2653e-01, -9.5892e-01, -4.9818e-01,  8.5850e-01, -1.0580e+00,\n",
       "        -8.5441e-01,  9.3901e-02, -5.9431e-01, -1.5152e-01, -2.2863e-01,\n",
       "        -3.1483e-01,  1.8332e-01,  2.3775e-01, -4.3973e-01,  2.7917e-01,\n",
       "        -6.7562e-01, -4.9910e-01, -3.1904e-01, -2.4788e-02, -8.5901e-01,\n",
       "        -8.1640e-01, -4.0304e-02, -5.7314e-02, -7.2049e-01, -3.4770e-01,\n",
       "        -2.2679e-01, -4.9826e-01,  1.2899e+00, -3.3901e-01, -4.1291e-01,\n",
       "         5.0809e-01, -7.0180e-01, -6.3834e-01, -2.1924e-01, -9.1831e-01,\n",
       "        -8.1463e-01,  2.3309e-01, -3.1936e-02,  1.3387e-01,  6.4089e-02,\n",
       "        -3.8637e-01,  1.1034e+00,  2.9719e-01,  1.6442e+00,  2.3674e-01,\n",
       "        -2.6140e-01, -4.8129e-01, -4.8438e-01, -9.3208e-01,  2.2799e-02,\n",
       "        -6.3505e-01, -1.0642e+00,  1.9779e-01, -1.0103e+00, -4.3553e-01,\n",
       "         1.1182e+00, -2.0137e-01, -1.6060e+00, -8.8300e-01,  5.4317e-01,\n",
       "        -4.3834e-02, -1.3232e+00, -6.7787e-01, -2.0668e-01, -6.9009e-01,\n",
       "        -7.2157e-02, -1.2970e+00,  3.4301e-01, -3.1214e-01,  5.3836e-01,\n",
       "        -3.8542e-01, -7.0232e-01, -7.6920e-01, -9.2535e-01, -2.5982e-01,\n",
       "        -6.4005e-01, -8.8603e-01, -4.2618e-01, -7.8812e-01, -3.3967e-01,\n",
       "         1.3803e-01, -1.0174e-02, -5.8854e-01, -4.0464e-01,  6.9817e-03,\n",
       "        -5.3992e-01,  1.7182e-01,  3.8541e-01, -7.4052e-01, -1.0596e+00,\n",
       "        -1.3584e+00,  7.8878e-02, -6.8016e-01,  1.5666e+00, -1.1157e-01,\n",
       "        -2.9001e-01, -7.9574e-01, -2.6775e-01, -6.9768e-01,  1.9539e-01,\n",
       "        -1.4329e-01, -1.6110e+00, -8.6854e-01, -8.8703e-01, -8.0084e-01,\n",
       "         5.3588e-01, -4.7401e-01,  3.5947e-01, -7.5924e-01, -6.9549e-01,\n",
       "        -6.6295e-01,  4.1950e-01, -1.1317e+00, -8.8059e-02, -1.1771e+00,\n",
       "        -7.1622e-02,  5.4524e-01, -2.3900e-02, -2.3445e-02,  1.2316e-01,\n",
       "        -1.0911e-01, -1.3664e-01,  4.9714e-01, -3.4611e-01,  4.2710e-01,\n",
       "         6.1345e-01,  6.6066e-01, -5.3974e-01, -9.8565e-01, -1.2444e+00,\n",
       "        -2.0802e-01,  1.1884e+00,  4.1740e-01, -3.7386e-01, -2.3716e-01,\n",
       "        -1.6671e-01, -3.7795e-01,  2.2066e-01, -5.7136e-01,  3.2866e-02,\n",
       "        -1.0221e-01, -1.2916e-01, -3.9116e-01, -2.8029e-01,  9.7680e-02,\n",
       "        -1.3311e-01, -4.3034e-01, -6.5975e-01,  1.6001e-01, -5.1659e-01,\n",
       "        -2.7647e-01, -5.4154e-01, -1.9708e-01, -4.5537e-01, -9.6308e-01,\n",
       "        -9.1562e-02, -3.0159e-01, -1.1839e+00, -3.6909e-01,  2.8591e-01,\n",
       "        -4.2197e-01, -5.4505e-01, -7.5278e-02,  3.8053e-01,  2.4880e-01,\n",
       "        -2.5370e-01,  7.0445e-01, -5.4711e-01,  4.2657e-01, -3.6924e-02,\n",
       "        -7.0616e-01, -2.4277e-01,  1.0128e-01, -1.2268e+00, -3.2618e-02,\n",
       "        -6.0791e-01, -6.8145e-01,  4.2001e-01,  8.2751e-01, -6.9605e-01,\n",
       "         1.5448e-01,  3.7267e-01, -3.9417e-01, -1.4016e+00,  7.6214e-01,\n",
       "        -5.8317e-01, -2.7425e-01, -2.9828e-01, -6.9654e-01,  5.2431e-01,\n",
       "        -1.8083e+00, -7.3259e-01,  4.9885e-01, -3.5011e-01, -6.3015e-01,\n",
       "         3.1779e-01, -3.0651e-01,  7.8652e-01, -2.0579e-01,  8.0750e-01,\n",
       "         4.4869e-01, -1.1123e-01, -1.2678e+00, -3.3863e-01,  5.1917e-01,\n",
       "         2.8731e-03, -6.0053e-01,  1.0677e-01, -8.1351e-01, -6.9929e-01,\n",
       "         2.5534e-02, -1.0351e-01, -8.0499e-02, -9.5499e-01, -7.0642e-01,\n",
       "        -1.0757e+00, -3.0579e-01, -3.1714e-01, -2.8366e-01, -4.8102e-01,\n",
       "         2.7937e-01,  1.2684e-01, -6.4644e-01, -4.3210e-01,  4.9984e-01,\n",
       "        -3.3270e-01, -8.7768e-01,  4.8221e-01, -7.5723e-01,  3.0923e-01,\n",
       "        -6.4096e-01, -3.3757e-01,  9.5380e-01,  8.9070e-01,  4.5063e-01,\n",
       "         4.4202e-01, -1.0118e+00,  1.0348e+00, -4.1837e-01, -8.4328e-01,\n",
       "        -5.7554e-01,  2.2125e-03, -8.7464e-01, -3.7835e-01, -6.6802e-01,\n",
       "        -3.1852e-01, -6.1862e-01, -3.2578e-01,  7.9689e-01, -1.3976e+00,\n",
       "         1.5118e+00, -3.9260e-01, -4.5440e-01, -4.3430e-01,  4.2713e-01,\n",
       "        -1.0463e+00, -1.1391e-02, -3.9689e-01, -7.6885e-01, -6.6796e-01,\n",
       "        -1.0714e+00,  1.0816e+00, -7.6819e-01, -5.6130e-01, -4.5224e-01,\n",
       "         3.0546e-01, -1.0492e-01,  8.7869e-01, -1.8006e-01, -2.8701e-01,\n",
       "         4.0962e-01, -4.6140e-01, -1.4330e-01, -3.7408e-01, -9.2880e-01,\n",
       "        -8.6221e-01, -7.5754e-01, -7.4114e-01, -4.1587e-01, -1.0933e+00,\n",
       "        -7.1947e-01, -3.7624e-01, -3.5404e-01, -9.9823e-01,  1.9933e-01,\n",
       "        -2.8415e-01,  3.9406e-01, -5.0060e-01, -4.1386e-01, -5.4163e-01,\n",
       "        -2.8466e-01,  1.1041e-02,  1.6315e-01, -3.5592e-01, -3.2371e-01,\n",
       "         2.4464e-01, -8.8369e-01, -4.5015e-01, -1.5860e+00, -7.6391e-01,\n",
       "        -3.2979e-02, -9.9747e-01, -1.6148e+00, -3.9959e-01,  1.3042e+00,\n",
       "        -2.4661e-01,  4.6062e-01, -1.7515e-01,  1.1781e+00, -5.4532e-01,\n",
       "         7.1762e-01, -5.1735e-01, -3.9710e-01,  1.5822e-01,  5.9853e-01,\n",
       "        -9.3947e-01,  3.6008e-01, -1.3843e+00,  1.1218e+00, -4.4261e-01,\n",
       "         4.7931e-01, -1.3428e+00, -1.3073e-01,  1.0438e-01, -2.6754e-01,\n",
       "         6.4661e-01, -7.3214e-01,  6.4709e-02,  5.8755e-02, -5.1094e-01,\n",
       "         3.4828e-01, -2.0617e-01, -3.8895e-01, -1.3820e-01, -8.3192e-01,\n",
       "        -1.7120e-01,  5.9597e-01,  4.9783e-01, -7.0593e-01, -5.7798e-01,\n",
       "        -7.9179e-01, -1.9033e-01,  2.5116e-01,  2.0306e-01, -1.0057e+00,\n",
       "        -4.4863e-01,  5.6405e-01,  4.0784e-02,  1.9341e-01,  7.1467e-01,\n",
       "        -1.1591e+00,  7.7950e-01,  7.7387e-01, -1.0748e+00, -3.9276e-01,\n",
       "        -3.4722e-01, -5.0535e-01, -2.8840e-01, -8.5558e-01, -9.5685e-01,\n",
       "        -3.2324e-01, -6.0684e-01, -1.2475e+00, -7.0274e-01,  7.9587e-01,\n",
       "         2.1571e-01, -3.0569e-01,  1.2159e-02, -8.6340e-01,  4.7907e-01,\n",
       "         6.4389e-02, -5.6362e-01, -1.0757e+00, -8.7791e-01, -4.7478e-01,\n",
       "        -2.6923e-01,  1.0031e-01,  8.4446e-01, -6.5040e-01, -1.0863e+00,\n",
       "         3.1381e-01,  2.2709e-01, -4.6761e-01, -1.0624e-01, -3.7075e-01,\n",
       "         1.1382e+00, -6.8883e-01, -1.1487e+00,  7.7114e-01, -1.1838e+00,\n",
       "         2.8666e-01, -6.3204e-01, -1.0414e+00, -6.5902e-01, -4.2188e-01,\n",
       "        -9.4339e-01, -9.3899e-01,  4.3124e-02, -7.6538e-02,  3.0990e-01,\n",
       "         4.3910e-03, -3.3112e-01, -2.3508e-01,  9.4899e-02, -4.9949e-01,\n",
       "        -5.2912e-01, -7.6603e-01, -2.5368e-01, -8.9782e-01, -8.6489e-01,\n",
       "        -2.0975e-01, -1.0425e+00, -9.4307e-01,  1.5367e-02,  3.4355e-01,\n",
       "         4.1959e-02,  6.3787e-01, -8.0125e-01,  3.1495e-01, -1.7533e-01,\n",
       "         6.1061e-02,  1.9587e-01,  1.1669e-01,  1.4644e-01,  5.2970e-01,\n",
       "        -4.3432e-01, -7.4856e-01, -5.8278e-01, -5.2301e-01, -2.4275e-01,\n",
       "         3.4010e-01, -1.2646e+00, -8.7463e-01, -5.1096e-01, -3.7032e-01,\n",
       "        -1.2026e+00, -9.7229e-01,  1.2705e+00, -6.2648e-01, -3.9078e-01,\n",
       "        -2.4289e-01, -1.6893e-01, -4.6449e-02,  5.6278e-01, -8.4126e-01,\n",
       "        -7.6731e-02, -1.1438e+00, -2.3938e-01, -4.2351e-01,  3.4787e-01,\n",
       "        -6.6947e-01, -9.2247e-01,  6.1441e-01,  6.7167e-01, -6.3442e-01,\n",
       "        -2.4059e-01, -5.8033e-01, -3.4755e-01, -8.1804e-02, -2.3884e-01,\n",
       "        -9.1655e-01, -7.0108e-01, -3.1588e-01, -2.4395e-01, -6.0648e-01,\n",
       "         1.4414e+00, -1.1414e+00, -3.0622e-01,  1.4389e-01,  8.7833e-01,\n",
       "        -1.5035e-01, -3.9611e-01,  8.2560e-01, -2.1892e-01, -6.7983e-01,\n",
       "         5.0938e-01,  1.3269e+00, -6.5191e-01,  1.6532e-01, -1.6426e-01,\n",
       "         2.5048e-01,  1.0782e+00,  1.1268e-02, -6.3578e-01,  2.2716e-02,\n",
       "        -7.5460e-01, -7.1002e-02, -1.1397e+00, -2.7296e-01, -6.6918e-01,\n",
       "        -1.0732e+00, -2.4804e-01,  1.2115e+00,  1.6681e-01,  5.7077e-01,\n",
       "        -2.2808e-01, -2.6758e-01, -2.1985e-01, -9.8729e-01,  2.4106e-01,\n",
       "         3.6981e-02, -2.8671e-01, -3.0140e-01, -9.4772e-01,  4.7162e-02,\n",
       "        -7.8608e-01, -3.0271e-01, -5.4584e-01,  3.8035e-01,  2.6284e-01,\n",
       "        -3.9270e-01,  8.6066e-01, -8.3343e-01,  3.7600e-01, -5.6094e-01,\n",
       "        -5.6199e-01, -1.5315e-01, -1.9302e-01, -6.0171e-01, -2.1760e-01,\n",
       "         4.4717e-01, -1.0075e+00,  6.6617e-01, -9.3857e-01, -2.8810e-01,\n",
       "        -6.7345e-01, -5.6846e-01, -6.7746e-01, -3.1947e-01, -1.0458e+00,\n",
       "        -5.5908e-02,  2.0438e-01,  7.9799e-01, -1.5019e-01,  2.5687e-01,\n",
       "        -1.5843e-01,  1.4686e+00, -7.4690e-01, -1.1762e+00,  1.8822e-01,\n",
       "        -6.9540e-01, -7.9437e-02, -4.4424e-03, -5.1883e-01, -3.2479e-01,\n",
       "         5.9056e-01,  9.6797e-01, -6.4921e-01,  1.0125e-02, -1.8120e-01,\n",
       "        -1.3269e+00, -2.1717e-01,  6.4424e-02,  6.9286e-01,  7.1247e-02,\n",
       "        -1.6403e-01,  6.6466e-02, -9.7312e-01, -6.9343e-01, -5.1751e-01,\n",
       "         1.6776e-01,  2.5437e-02,  3.7349e-01,  1.6801e-01, -5.2846e-01])"
      ]
     },
     "execution_count": 42,
     "metadata": {},
     "output_type": "execute_result"
    }
   ],
   "source": [
    "get_gp_samples(X_d,dimx=d,train_data=None,likelihood=None)"
   ]
  },
  {
   "cell_type": "code",
   "execution_count": null,
   "metadata": {},
   "outputs": [],
   "source": [
    "rff_kern = gpytorch.kernels.RFFKernel(num_samples=100)"
   ]
  },
  {
   "cell_type": "code",
   "execution_count": null,
   "metadata": {},
   "outputs": [],
   "source": [
    "def sample_rff(x,dimx,num_samples_RFF=100,\n",
    "    lengthscale=1,\n",
    "    coefficient= 1):\n",
    "    \n",
    "    # Dimension of data space\n",
    "    omega_shape = (1, num_samples_RFF, dimx)\n",
    "    \n",
    "    # Handle each of three possible kernels separately\n",
    "    \n",
    "    omega = torch.randn(size=omega_shape)\n",
    "        \n",
    "        \n",
    "    # Scale omegas by lengthscale\n",
    "    omega = omega / lengthscale\n",
    "    \n",
    "    weights = torch.randn(size=(1, num_samples_RFF))\n",
    "    phi = torch.FloatTensor(1, num_samples_RFF).uniform_(0, (2 * torch.pi))\n",
    "\n",
    "    \n",
    "    features = torch.cos(torch.einsum('sfd, nd -> sfn', omega, x) + phi)\n",
    "    features = (2 / num_samples_RFF) ** 0.5 * features * coefficient\n",
    "    \n",
    "    functions = torch.einsum('sf, sfn -> sn', weights, features)\n",
    "    \n",
    "    return functions, features"
   ]
  },
  {
   "cell_type": "code",
   "execution_count": null,
   "metadata": {},
   "outputs": [
    {
     "ename": "NameError",
     "evalue": "name 'X_eva' is not defined",
     "output_type": "error",
     "traceback": [
      "\u001b[0;31m---------------------------------------------------------------------------\u001b[0m",
      "\u001b[0;31mNameError\u001b[0m                                 Traceback (most recent call last)",
      "Cell \u001b[0;32mIn[45], line 1\u001b[0m\n\u001b[0;32m----> 1\u001b[0m \u001b[43mX_eva\u001b[49m\n",
      "\u001b[0;31mNameError\u001b[0m: name 'X_eva' is not defined"
     ]
    }
   ],
   "source": [
    "X_eva"
   ]
  },
  {
   "cell_type": "code",
   "execution_count": null,
   "metadata": {},
   "outputs": [
    {
     "ename": "RuntimeError",
     "evalue": "einsum(): the number of subscripts in the equation (2) does not match the number of dimensions (3) for operand 1 and no ellipsis was given",
     "output_type": "error",
     "traceback": [
      "\u001b[0;31m---------------------------------------------------------------------------\u001b[0m",
      "\u001b[0;31mRuntimeError\u001b[0m                              Traceback (most recent call last)",
      "Cell \u001b[0;32mIn[19], line 1\u001b[0m\n\u001b[0;32m----> 1\u001b[0m \u001b[43msample_rff\u001b[49m\u001b[43m(\u001b[49m\u001b[43mX_eval\u001b[49m\u001b[43m,\u001b[49m\u001b[38;5;241;43m2\u001b[39;49m\u001b[43m,\u001b[49m\u001b[43mnum_samples_RFF\u001b[49m\u001b[38;5;241;43m=\u001b[39;49m\u001b[38;5;241;43m100\u001b[39;49m\u001b[43m,\u001b[49m\n\u001b[1;32m      2\u001b[0m \u001b[43m    \u001b[49m\u001b[43mlengthscale\u001b[49m\u001b[38;5;241;43m=\u001b[39;49m\u001b[38;5;241;43m1\u001b[39;49m\u001b[43m,\u001b[49m\n\u001b[1;32m      3\u001b[0m \u001b[43m    \u001b[49m\u001b[43mcoefficient\u001b[49m\u001b[38;5;241;43m=\u001b[39;49m\u001b[43m \u001b[49m\u001b[38;5;241;43m1\u001b[39;49m\u001b[43m)\u001b[49m\n",
      "Cell \u001b[0;32mIn[18], line 20\u001b[0m, in \u001b[0;36msample_rff\u001b[0;34m(x, dimx, num_samples_RFF, lengthscale, coefficient)\u001b[0m\n\u001b[1;32m     16\u001b[0m weights \u001b[38;5;241m=\u001b[39m torch\u001b[38;5;241m.\u001b[39mrandn(size\u001b[38;5;241m=\u001b[39m(\u001b[38;5;241m1\u001b[39m, num_samples_RFF))\n\u001b[1;32m     17\u001b[0m phi \u001b[38;5;241m=\u001b[39m torch\u001b[38;5;241m.\u001b[39mFloatTensor(\u001b[38;5;241m1\u001b[39m, num_samples_RFF)\u001b[38;5;241m.\u001b[39muniform_(\u001b[38;5;241m0\u001b[39m, (\u001b[38;5;241m2\u001b[39m \u001b[38;5;241m*\u001b[39m torch\u001b[38;5;241m.\u001b[39mpi))\n\u001b[0;32m---> 20\u001b[0m features \u001b[38;5;241m=\u001b[39m torch\u001b[38;5;241m.\u001b[39mcos(\u001b[43mtorch\u001b[49m\u001b[38;5;241;43m.\u001b[39;49m\u001b[43meinsum\u001b[49m\u001b[43m(\u001b[49m\u001b[38;5;124;43m'\u001b[39;49m\u001b[38;5;124;43msfd, nd -> sfn\u001b[39;49m\u001b[38;5;124;43m'\u001b[39;49m\u001b[43m,\u001b[49m\u001b[43m \u001b[49m\u001b[43momega\u001b[49m\u001b[43m,\u001b[49m\u001b[43m \u001b[49m\u001b[43mx\u001b[49m\u001b[43m)\u001b[49m \u001b[38;5;241m+\u001b[39m phi)\n\u001b[1;32m     21\u001b[0m features \u001b[38;5;241m=\u001b[39m (\u001b[38;5;241m2\u001b[39m \u001b[38;5;241m/\u001b[39m num_samples_RFF) \u001b[38;5;241m*\u001b[39m\u001b[38;5;241m*\u001b[39m \u001b[38;5;241m0.5\u001b[39m \u001b[38;5;241m*\u001b[39m features \u001b[38;5;241m*\u001b[39m coefficient\n\u001b[1;32m     23\u001b[0m functions \u001b[38;5;241m=\u001b[39m torch\u001b[38;5;241m.\u001b[39meinsum(\u001b[38;5;124m'\u001b[39m\u001b[38;5;124msf, sfn -> sn\u001b[39m\u001b[38;5;124m'\u001b[39m, weights, features)\n",
      "File \u001b[0;32m~/Python/Obs_and_exp_data/.conda/lib/python3.11/site-packages/torch/functional.py:386\u001b[0m, in \u001b[0;36meinsum\u001b[0;34m(*args)\u001b[0m\n\u001b[1;32m    381\u001b[0m     \u001b[38;5;28;01mreturn\u001b[39;00m einsum(equation, \u001b[38;5;241m*\u001b[39m_operands)\n\u001b[1;32m    383\u001b[0m \u001b[38;5;28;01mif\u001b[39;00m \u001b[38;5;28mlen\u001b[39m(operands) \u001b[38;5;241m<\u001b[39m\u001b[38;5;241m=\u001b[39m \u001b[38;5;241m2\u001b[39m \u001b[38;5;129;01mor\u001b[39;00m \u001b[38;5;129;01mnot\u001b[39;00m opt_einsum\u001b[38;5;241m.\u001b[39menabled:\n\u001b[1;32m    384\u001b[0m     \u001b[38;5;66;03m# the path for contracting 0 or 1 time(s) is already optimized\u001b[39;00m\n\u001b[1;32m    385\u001b[0m     \u001b[38;5;66;03m# or the user has disabled using opt_einsum\u001b[39;00m\n\u001b[0;32m--> 386\u001b[0m     \u001b[38;5;28;01mreturn\u001b[39;00m \u001b[43m_VF\u001b[49m\u001b[38;5;241;43m.\u001b[39;49m\u001b[43meinsum\u001b[49m\u001b[43m(\u001b[49m\u001b[43mequation\u001b[49m\u001b[43m,\u001b[49m\u001b[43m \u001b[49m\u001b[43moperands\u001b[49m\u001b[43m)\u001b[49m  \u001b[38;5;66;03m# type: ignore[attr-defined]\u001b[39;00m\n\u001b[1;32m    388\u001b[0m path \u001b[38;5;241m=\u001b[39m \u001b[38;5;28;01mNone\u001b[39;00m\n\u001b[1;32m    389\u001b[0m \u001b[38;5;28;01mif\u001b[39;00m opt_einsum\u001b[38;5;241m.\u001b[39mis_available():\n",
      "\u001b[0;31mRuntimeError\u001b[0m: einsum(): the number of subscripts in the equation (2) does not match the number of dimensions (3) for operand 1 and no ellipsis was given"
     ]
    }
   ],
   "source": [
    "sample_rff(X_eval,2,num_samples_RFF=100,\n",
    "    lengthscale=1,\n",
    "    coefficient= 1)"
   ]
  },
  {
   "cell_type": "code",
   "execution_count": null,
   "metadata": {},
   "outputs": [],
   "source": [
    "def GP_func(X_range,\n",
    "               d=1,N_eval_points=5000,train_data=None,likelihood=None,scale=1,kernel=\"RBF\",num_samples_RFF=100):\n",
    "    if d==1: \n",
    "        X_eval = torch.linspace(X_range[0],X_range[1],steps=N_eval_points)\n",
    "        Y_eval = get_gp_samples(X_eval,train_data=train_data,likelihood=likelihood,kernel=kernel,num_samples_RFF=num_samples_RFF)\n",
    "        def GP(X):\n",
    "            a = ((N_eval_points-1)*(X-X_range[0])/(X_range[1]-X_range[0])).int()\n",
    "            return scale*Y_eval[a]\n",
    "        return GP    "
   ]
  },
  {
   "cell_type": "code",
   "execution_count": null,
   "metadata": {},
   "outputs": [],
   "source": [
    "def RFF_GP(dimx,num_samples):\n",
    "    rff_kern = gpytorch.kernels.RFFKernel(num_samples=num_samples,num_dims=dimx)\n",
    "    weights = torch.randn(2*num_samples)\n",
    "    def GP(X):\n",
    "        z = rff_kern._featurize(x=X_d,normalize=True)\n",
    "        return z @ weights\n",
    "    return GP"
   ]
  },
  {
   "cell_type": "code",
   "execution_count": null,
   "metadata": {},
   "outputs": [
    {
     "data": {
      "text/plain": [
       "torch.Size([1000, 5])"
      ]
     },
     "execution_count": 28,
     "metadata": {},
     "output_type": "execute_result"
    }
   ],
   "source": [
    "X_d.shape"
   ]
  },
  {
   "cell_type": "code",
   "execution_count": null,
   "metadata": {},
   "outputs": [],
   "source": [
    "dimx = 5\n",
    "num_samples = 100"
   ]
  },
  {
   "cell_type": "code",
   "execution_count": null,
   "metadata": {},
   "outputs": [],
   "source": [
    "weights = torch.randn(2*num_samples)"
   ]
  },
  {
   "cell_type": "code",
   "execution_count": null,
   "metadata": {},
   "outputs": [],
   "source": [
    "z = rff_kern._featurize(x=X_d,normalize=True)"
   ]
  },
  {
   "cell_type": "code",
   "execution_count": null,
   "metadata": {},
   "outputs": [
    {
     "data": {
      "text/plain": [
       "tensor([ 1.8833,  2.1217,  1.4736,  1.5713,  0.5998,  0.8289,  0.4788,  0.8577,\n",
       "         0.8728,  1.4274,  1.1200,  1.0823,  1.3883,  2.3396,  0.8386,  1.9225,\n",
       "         1.6207,  2.3544,  2.1576,  1.4351,  0.6983,  1.4843,  1.1488,  1.1769,\n",
       "         1.6417,  1.3157,  0.9408,  1.6932,  2.0161,  1.0237,  0.9174,  1.5165,\n",
       "         1.3030,  1.7305,  2.2141,  2.2182,  1.5717,  0.4577,  1.6798,  2.2400,\n",
       "         1.3030,  1.3401,  0.7412,  1.5277,  1.9158,  1.6104,  2.1167,  1.7578,\n",
       "         0.0267,  0.2912,  0.4249,  1.5875,  1.0043,  2.4383,  1.3633,  1.9510,\n",
       "         1.4839,  1.8627,  0.7840,  0.3647,  1.2609,  1.5850,  1.6386,  1.4734,\n",
       "         0.1185,  1.5905,  1.5848,  2.2010,  1.9117,  0.5502,  1.5121,  1.2869,\n",
       "         2.3302,  1.7301,  1.2422,  1.6449,  2.3069,  0.7901,  1.0974,  1.3293,\n",
       "         1.8368,  2.2905,  1.2764, -0.0055,  0.9593,  1.3937,  1.8870,  0.0958,\n",
       "         0.6922,  0.2329,  0.5374,  1.8203,  1.2926,  0.2840,  1.8633,  0.5164,\n",
       "         1.6708,  1.5181,  1.4221,  1.3873,  0.8435,  1.2416,  0.8370,  0.0082,\n",
       "         1.0159,  1.1732,  1.9152,  1.0151, -0.0403,  1.1688,  1.1197,  2.0601,\n",
       "         1.4758,  2.1881,  0.5670,  0.9633,  1.7921,  1.2515,  1.8589,  0.4698,\n",
       "         1.6114,  1.5150,  1.7843,  0.4044,  0.9934,  1.7446,  2.1168,  1.3729,\n",
       "         1.5413,  2.4088,  0.7016,  1.3032,  1.8820,  1.5216,  0.8695,  0.5392,\n",
       "         1.1626,  1.5797,  0.6232,  0.9380,  0.4333,  1.3339,  1.0192,  1.3659,\n",
       "         1.8177,  1.6033,  1.7761,  1.5541,  1.3141,  0.5835,  1.5971,  1.0048,\n",
       "         1.6818,  1.8538,  1.0789,  0.7928,  0.9563,  1.7231,  0.7955,  1.7326,\n",
       "         1.4648,  0.8370,  1.2223,  1.8290,  1.8303,  0.9888,  1.7141,  1.6995,\n",
       "         0.8125,  0.9621,  1.1277,  0.9376,  1.0465,  1.4770,  2.0955,  2.1017,\n",
       "         1.5586,  1.9712,  0.9093,  2.4641,  1.2814,  1.0914,  1.2754,  1.6372,\n",
       "         0.2661,  0.7416,  0.7751, -0.0300,  1.6716,  1.6624,  2.1457,  1.5096,\n",
       "         1.7721,  1.5380,  1.5425,  1.5354,  0.5991,  0.2750,  1.2186,  1.7541,\n",
       "         2.3062,  1.7618,  1.3086,  1.7163,  1.6486,  1.3713,  1.6815,  1.6405,\n",
       "         0.9988,  1.4308,  1.1028, -0.1882,  1.1388,  1.9048,  1.1214,  1.3694,\n",
       "         1.5101,  1.8825,  1.2082,  0.7850,  2.2168,  2.2188,  1.4693, -0.4372,\n",
       "         1.0637,  1.3554,  1.4977,  1.5921,  2.2048,  2.4182, -0.0239,  1.7695,\n",
       "         1.7199,  1.5070,  1.2044,  2.6374,  0.5056,  1.2937,  0.7486,  0.5827,\n",
       "         2.3471,  1.7782,  1.9514,  2.1724,  0.2263,  1.7603,  1.5520,  1.3467,\n",
       "         1.4196,  1.4794,  0.2784,  2.2829,  0.0524,  1.9599,  1.8178,  1.8946,\n",
       "         1.3602,  1.2554,  1.3922,  1.3717,  2.1872,  0.8627,  1.9615,  0.9745,\n",
       "         0.6311,  1.6260,  0.3483,  0.6650,  1.0422,  1.5997,  2.0562,  1.6494,\n",
       "         1.7005,  1.8944,  1.7592,  1.8769,  0.7299,  1.0362,  1.6744,  1.2650,\n",
       "         1.1164,  1.6864,  1.4599,  1.0425,  0.1137,  0.9428,  1.3628,  1.2484,\n",
       "         0.5593,  1.5814,  2.2800, -0.2368,  0.8048,  1.9181,  0.7770,  0.7605,\n",
       "         2.2549,  1.1409,  1.3973,  0.9939,  0.8084,  0.8529,  0.0299,  0.5788,\n",
       "         1.5945,  0.4496,  1.6065,  1.1622,  1.5496,  0.8873,  2.2906,  0.9793,\n",
       "         0.3357,  0.9955,  1.5877,  1.2559,  1.6306,  1.3902,  1.2850,  1.2792,\n",
       "         1.1930, -0.1090,  1.7344,  1.8307,  0.8093,  1.9187,  1.1215,  1.9341,\n",
       "         1.5294,  1.2938,  1.2926,  2.0693,  1.5398,  1.0960,  1.4786,  1.6170,\n",
       "         1.5681,  2.3392,  2.1818,  1.3226,  0.9852,  2.3238,  0.8682,  0.9853,\n",
       "         1.6803,  0.4242,  1.6860,  0.8157,  2.0234,  2.0641,  1.8410,  1.0794,\n",
       "         1.3697,  0.4268,  1.0183,  1.5588,  0.0414,  1.6329,  1.5860,  1.5759,\n",
       "         2.0646,  1.0704,  1.2818,  1.8512,  1.3967,  0.4985,  1.8082,  0.3993,\n",
       "         1.3754,  0.7978,  1.0741,  0.4811,  0.9766,  2.4413,  1.4380,  1.7694,\n",
       "         1.7390,  1.1658,  1.5266,  1.2603,  1.1618,  1.6147,  0.8642,  1.8602,\n",
       "         2.2617,  0.7263,  1.3041,  0.4925,  1.2044,  1.5997,  1.4072,  0.9870,\n",
       "         1.2742,  1.5478,  1.3699,  1.6727,  1.1652, -0.3007,  1.5176,  1.8942,\n",
       "         0.7543,  1.5402,  1.7105,  1.5751,  1.0283,  1.5786,  0.4585,  1.5870,\n",
       "         1.5561,  1.7482,  1.2834,  0.9453,  1.5647,  0.7278,  1.2354,  1.6969,\n",
       "         1.2270,  1.8970,  1.2446,  1.1225,  1.7718,  1.6846,  1.4523,  1.3549,\n",
       "         1.6156,  1.0806,  1.5166,  1.0694,  0.7942,  1.2471,  1.3853,  1.7025,\n",
       "         0.8097,  1.6173,  0.4758,  1.7803, -0.0506,  1.5391,  0.9273,  2.0155,\n",
       "         1.2741,  1.5695,  0.4351,  0.3980,  1.1857,  1.5226,  1.5054,  2.3495,\n",
       "         0.5047,  1.4371,  1.8943,  1.3398,  1.9974,  0.5936,  1.3021,  1.6805,\n",
       "         0.5018,  0.3385,  1.6620,  1.9182,  1.5530,  1.5472,  1.8114,  0.5486,\n",
       "        -0.0761,  1.5335,  0.3610,  0.8264,  1.2756,  2.0770,  2.0672,  1.6233,\n",
       "         1.7904,  0.9030,  1.0123,  2.0492,  2.3807,  1.6982,  1.5338,  0.1169,\n",
       "         2.2565,  1.4683,  1.3453,  1.6690,  1.6281,  2.3237,  0.7397,  2.1339,\n",
       "         1.6797,  1.7337,  1.6934,  1.2572,  1.2750,  1.0698,  1.2540,  1.6646,\n",
       "         1.0565,  1.8752,  2.1072,  1.3189,  1.0232,  0.7196,  1.4628,  1.8479,\n",
       "         0.1950,  0.1690,  1.0465,  1.5572,  1.0801,  1.3887,  1.2896,  0.9515,\n",
       "        -0.2161,  0.4078,  0.6779,  1.5226,  2.5126,  1.3322,  1.2456,  1.5105,\n",
       "         1.1898,  1.4474,  1.0796,  0.6349,  1.6597,  2.4468,  1.7451,  0.2776,\n",
       "         1.7445,  1.9575,  0.9771,  2.2434,  2.2261,  1.6722,  0.9547,  1.1573,\n",
       "         0.4728,  1.0125,  2.4154,  0.5688,  1.7897,  0.8803,  2.0842,  1.2988,\n",
       "         0.9272,  1.5687,  1.0113,  0.1449,  1.9214,  1.4822,  1.4892,  1.6365,\n",
       "         1.9990,  1.8035,  1.8720,  1.9992,  1.2154,  1.5971,  1.4933,  1.5259,\n",
       "         2.5275,  1.4564,  1.7424,  1.8270,  1.2276,  2.2266,  1.0398,  0.1863,\n",
       "         0.8930,  1.7967,  0.9699,  1.5382,  1.3395,  0.5501,  1.5642,  2.1226,\n",
       "         0.3894,  0.8460,  1.5291,  1.4971,  1.8676,  1.7326,  1.1274,  1.1629,\n",
       "         1.3744,  1.5552,  1.5213,  1.7729,  1.2647,  2.0182,  1.6624,  1.2065,\n",
       "         1.1304,  1.8928,  1.5196,  0.1737,  2.5473,  1.4765,  1.3891,  1.0153,\n",
       "         1.5917,  1.4669,  1.5380,  1.9243,  0.7189,  0.7769,  0.8947,  1.3399,\n",
       "         1.9758,  1.1995,  1.8599,  1.7603,  1.3135,  1.1752,  1.7149,  0.5613,\n",
       "         1.7765,  0.4847,  1.3203,  1.4609,  1.7161,  0.4805,  0.2438,  1.6372,\n",
       "        -0.6366,  1.8760, -0.0487,  1.9552,  0.2961,  1.5421,  1.8445,  1.8430,\n",
       "         1.0307,  1.2768,  0.8967,  1.4544,  2.1593,  1.3508,  1.2459,  1.4838,\n",
       "         0.9905,  1.6402,  1.6891,  2.1832,  1.2329,  0.8532,  1.2181,  1.8702,\n",
       "         1.0818,  0.8773,  2.5526,  1.5338,  1.4822,  1.4026,  1.8456,  1.2072,\n",
       "         2.1347,  1.8910,  1.1952,  1.5156,  1.7187,  1.9286,  1.9246,  1.7174,\n",
       "         1.9752,  1.4485,  0.2674,  1.2855,  1.6409,  1.4289,  1.1872,  2.0387,\n",
       "         1.9697,  2.0506,  1.2342,  1.7631,  1.6914,  1.2119,  2.2227,  1.8021,\n",
       "         1.7500,  1.6455,  0.5713,  1.7106,  1.4433,  0.8280,  1.0296,  1.5113,\n",
       "         1.4018,  1.2545,  2.0872,  0.9172,  1.2631,  1.6085,  2.3384,  2.5071,\n",
       "         1.6018,  1.5775,  1.7217,  0.5361,  1.0561,  1.1812,  1.3522,  1.5601,\n",
       "         0.7941,  1.6322,  1.0448,  1.6432,  0.9678,  0.9860,  1.2523,  0.4479,\n",
       "         1.5151,  1.1227,  0.4381,  1.1658,  1.1428,  1.4934,  1.6247,  2.0492,\n",
       "         0.2568,  0.1326,  1.4741,  0.5857,  2.3234,  0.7108,  2.0539,  0.6703,\n",
       "         1.6209,  1.7814,  1.7918,  1.6751,  0.9986, -0.0896,  1.1676,  1.0843,\n",
       "         1.9601,  1.9155,  0.9061,  1.0938,  1.4812,  2.2336,  1.4059,  1.8523,\n",
       "         2.0393,  0.6019,  1.6967,  1.1111,  2.2430,  2.5329,  1.4972,  1.6366,\n",
       "         0.9342,  1.5714,  2.0671,  0.3338,  2.0268,  1.4896,  1.3693,  0.4334,\n",
       "         2.0780,  0.3811,  0.6595,  1.9203,  1.4272,  2.2918,  1.3847,  2.1695,\n",
       "         0.4813,  0.2687,  1.6716,  1.5965,  2.1413,  1.1649,  0.7492,  1.3383,\n",
       "         2.2051,  1.5157,  0.8361,  1.2453,  0.4679,  1.2548,  1.6151,  1.2121,\n",
       "         1.5458,  1.5607,  1.8555,  2.1746,  1.4036,  1.6529,  1.1468,  0.7183,\n",
       "         1.3274,  1.8108,  0.3500,  1.6320,  1.7288,  1.5790,  1.5895,  1.8474,\n",
       "         1.7780,  1.3374,  0.0600,  1.6138,  1.8413,  1.6732,  1.4455,  1.3663,\n",
       "         1.6338,  0.4799,  0.9264,  1.5053,  2.0832,  1.4800,  1.7951,  1.3691,\n",
       "         0.5160,  0.2290,  1.4355,  1.4301,  1.3644,  0.1469, -0.1785,  1.7883,\n",
       "         1.1096,  1.2269,  0.9593,  0.9912,  1.1949,  2.0213,  2.3269,  1.4648,\n",
       "         1.8326,  1.2683,  0.9157,  1.6625,  1.2373,  1.0560,  2.0772,  1.3137,\n",
       "         1.7115,  0.6566,  1.5050,  0.9591,  1.8579,  2.2013,  1.1154,  0.7075,\n",
       "         1.2926,  1.5688,  1.6856,  0.7715,  1.8107,  0.1698,  1.8381,  1.2252,\n",
       "         1.5451,  1.4524,  0.9789,  1.7284,  1.7054,  0.8493,  1.0693,  1.1685,\n",
       "         1.7155,  1.4492,  0.8584,  2.1385, -0.4183,  1.2933,  1.2399,  0.9609,\n",
       "         0.4599,  1.7504,  2.0252,  1.3129,  0.7062,  1.0726,  1.4822,  1.3467,\n",
       "         1.0941,  1.2836,  2.1995,  1.1444,  1.2921,  1.2785,  0.0759,  1.6134,\n",
       "         1.4777,  1.2621,  1.7106,  1.5739,  1.4363,  1.1174,  1.5030,  1.4542,\n",
       "         2.0025,  1.4712,  1.0193,  1.5687,  0.1670,  1.2428,  1.2323,  0.6062,\n",
       "         1.5072,  1.4531,  2.2475,  1.2141,  0.8561,  0.5627,  1.5856,  0.4276,\n",
       "         1.3756,  0.7706,  1.8315,  1.4254,  1.4692,  1.4853,  1.9986,  1.9893,\n",
       "         0.9692,  1.5938,  1.1648,  1.1852,  0.4657,  0.4447,  1.1557,  1.4604,\n",
       "         1.4680,  0.8212,  2.2267,  0.5452,  0.0553,  1.5641,  1.4531,  2.1111,\n",
       "         2.2031,  1.5515,  2.1091,  1.8971,  1.9812,  1.9581,  1.2112,  0.9456,\n",
       "         2.1164,  1.0332,  1.8834,  0.2916,  1.1877,  1.6553,  2.5531,  2.1582,\n",
       "         1.5680,  1.3770,  0.5356,  1.3002,  1.1526,  0.9512,  0.3088,  1.8695,\n",
       "         2.5526,  1.0365,  1.4578,  0.9408, -0.1519,  1.8380, -0.1641,  2.0726,\n",
       "         1.6543,  0.0903,  1.2742,  0.4015,  0.7623,  0.6880,  1.3651,  1.8574,\n",
       "         1.5426,  1.3607,  1.4477,  1.1052,  1.9557,  1.6191,  0.6436,  1.5823,\n",
       "         1.5792,  1.9732,  1.8675,  0.2144,  1.5378,  1.4511,  2.1158,  1.6698,\n",
       "         2.4180,  1.2300,  1.7236,  0.9392,  1.8586,  1.1830,  1.6318,  1.9587],\n",
       "       grad_fn=<MvBackward0>)"
      ]
     },
     "execution_count": 45,
     "metadata": {},
     "output_type": "execute_result"
    }
   ],
   "source": [
    "(z @ weights)"
   ]
  },
  {
   "cell_type": "code",
   "execution_count": null,
   "metadata": {},
   "outputs": [],
   "source": [
    "rff_kern = gpytorch.kernels.RFFKernel(num_samples=100,num_dims=5)"
   ]
  },
  {
   "cell_type": "code",
   "execution_count": null,
   "metadata": {},
   "outputs": [
    {
     "data": {
      "text/plain": [
       "tensor([[-7.0944e-01, -2.7429e-01, -3.5819e-01,  4.2447e-01,  7.5103e-01,\n",
       "         -8.1881e-01,  7.7175e-01,  1.5018e+00,  4.4129e-01,  3.3600e-01,\n",
       "         -4.3551e-01, -2.7025e-01,  5.5268e-01, -4.3179e-01, -4.1628e-01,\n",
       "          1.2341e+00, -1.1588e+00,  1.1538e+00, -9.9942e-01,  4.9427e-01,\n",
       "         -1.5020e-01, -9.9993e-01,  2.6442e-01, -6.2833e-01,  7.8621e-02,\n",
       "          1.6321e+00,  3.9233e-02,  1.5751e+00, -2.1053e+00, -4.1446e-01,\n",
       "         -1.8436e+00,  8.5083e-01, -2.3707e-01, -9.7306e-01,  4.1849e-01,\n",
       "          8.4847e-01,  4.4733e-01,  7.2285e-01,  4.3061e-01,  4.8366e-01,\n",
       "         -9.3169e-01,  1.2068e-01, -1.3554e+00,  7.7871e-01, -6.9105e-01,\n",
       "          1.4870e+00, -7.5332e-01,  8.2339e-01, -1.9517e+00, -8.6403e-01,\n",
       "          2.9385e-01, -3.9116e-01, -1.0327e+00, -4.5827e-01,  1.4590e+00,\n",
       "         -4.2948e-01,  4.3347e-01,  7.8279e-01,  9.9180e-01,  2.3974e-01,\n",
       "         -1.4536e+00, -1.6018e+00,  2.1695e-01,  5.5575e-01, -7.5810e-01,\n",
       "          1.0024e+00, -7.4308e-01, -2.0139e+00, -6.6659e-01, -5.9236e-01,\n",
       "         -1.1000e+00,  3.8939e-01,  1.1044e+00, -1.3528e-01,  3.1892e-01,\n",
       "          1.1257e-01,  5.0378e-01, -1.1454e-01, -1.1966e+00,  6.0516e-02,\n",
       "          3.6012e-01,  7.0521e-01,  5.6686e-01, -1.5642e+00, -2.8435e+00,\n",
       "          1.0151e-01,  2.1310e+00,  2.3539e-01,  6.4584e-01, -6.9054e-01,\n",
       "         -9.6062e-01,  1.2893e+00,  1.0459e+00, -9.4149e-01, -5.3119e-01,\n",
       "          3.6511e-01, -3.2202e-01,  9.8678e-01,  8.9803e-02, -9.7414e-01],\n",
       "        [ 1.1302e+00, -1.4063e-01,  1.4296e-01, -7.7343e-01, -1.4495e+00,\n",
       "         -2.7340e-01,  1.6428e+00,  3.5132e-01, -1.3033e+00, -8.4151e-01,\n",
       "         -5.8898e-01,  9.5630e-01, -5.2386e-01,  4.2933e-01, -2.5489e-01,\n",
       "         -5.9704e-01,  7.5492e-01,  7.0782e-02,  9.0858e-01, -1.1951e+00,\n",
       "         -1.6965e+00, -1.5478e+00, -8.8056e-01, -9.8243e-01,  8.4950e-01,\n",
       "         -3.9773e-01, -1.3195e+00, -2.3913e-01, -4.6308e-01,  7.1562e-02,\n",
       "         -1.0313e+00, -8.2768e-01, -2.3217e-01,  8.6230e-03,  1.2036e+00,\n",
       "         -1.2887e+00, -9.0464e-01,  1.7213e+00,  1.5066e-02, -6.1439e-01,\n",
       "          2.9093e-01,  1.1929e+00,  1.3402e+00, -3.2430e-01, -2.4862e+00,\n",
       "          8.4785e-01,  7.9191e-01, -6.6631e-01,  9.1181e-01, -1.0097e+00,\n",
       "         -1.8610e+00,  4.5389e-01,  5.7265e-01,  6.0692e-01, -8.4553e-01,\n",
       "         -8.6671e-01,  1.2578e+00,  1.4124e-01,  1.6583e-01,  4.5319e-01,\n",
       "         -2.5110e-01,  5.1278e-01, -1.4828e+00,  4.3175e-01,  2.5584e-01,\n",
       "          1.8694e+00, -6.1064e-01, -1.7463e+00, -5.8899e-01, -6.9862e-01,\n",
       "          1.0692e+00, -4.9760e-01, -4.1905e-02,  8.8689e-01,  2.4281e-01,\n",
       "          5.4523e-01,  1.0957e+00,  7.1706e-01, -3.9853e-01, -9.2912e-01,\n",
       "         -1.4199e+00, -9.4482e-01, -6.7258e-01, -1.6102e+00, -1.0030e+00,\n",
       "         -8.5444e-01, -1.2627e+00, -1.1259e-01,  1.0960e+00,  1.1835e+00,\n",
       "         -1.9663e+00, -7.8496e-03, -1.9259e-01,  3.1154e-01, -1.1760e+00,\n",
       "         -5.4835e-02,  1.0691e+00,  1.9975e+00, -5.2777e-01, -1.7073e+00],\n",
       "        [-1.1719e-01, -5.6096e-01,  7.1724e-01,  8.7750e-01, -7.4431e-02,\n",
       "         -7.6030e-01,  8.2713e-01, -7.4254e-01,  4.5315e-01, -6.0850e-01,\n",
       "         -1.6915e+00,  2.7614e-01, -1.6087e+00,  1.7339e+00,  7.8834e-01,\n",
       "         -6.5447e-01,  1.2416e+00,  2.9404e-03, -5.2914e-01,  7.8986e-01,\n",
       "          7.1212e-01,  6.8067e-01, -9.8909e-02,  8.0562e-01, -2.1608e+00,\n",
       "          1.9321e+00, -2.9193e-01,  1.1479e+00, -6.8901e-01, -3.5569e-01,\n",
       "          1.1159e+00,  2.5470e-01,  1.7340e+00, -1.4048e+00,  1.5072e+00,\n",
       "          1.2066e+00,  6.4128e-01, -1.2319e+00, -4.6680e-01, -2.8749e-02,\n",
       "          1.3342e+00, -5.9443e-01, -9.6746e-01,  1.4385e+00, -5.1492e-01,\n",
       "         -3.5187e-01,  5.0581e-01, -1.6855e-01, -5.8040e-01, -2.6253e-01,\n",
       "         -5.4911e-01,  2.2817e-01, -1.4790e+00, -9.8213e-01,  1.8576e+00,\n",
       "         -2.4319e-01,  5.9996e-01,  7.7077e-01,  4.3540e-01,  2.7501e-01,\n",
       "         -1.2564e+00, -8.8385e-01, -1.1865e+00, -9.8428e-01,  1.9531e-01,\n",
       "         -1.1577e+00, -4.7557e-02,  1.7746e-01,  1.1940e+00,  5.6674e-01,\n",
       "          1.6053e+00,  4.1998e-01, -1.1905e+00, -1.3964e+00, -1.5756e-01,\n",
       "          3.0384e-01,  5.4401e-01, -5.5504e-01,  1.3479e+00,  9.6058e-01,\n",
       "          2.6390e-01,  2.3347e+00,  1.1501e-01,  4.8339e-01, -6.8386e-01,\n",
       "          8.9431e-01,  4.0287e-01,  1.1255e+00,  3.4176e-01, -8.3820e-01,\n",
       "         -5.7704e-01, -4.5068e-02, -9.3821e-01,  4.4655e-01, -1.8412e+00,\n",
       "          1.0979e+00,  6.9009e-01, -1.2053e+00, -6.1955e-01, -2.2014e-01],\n",
       "        [-2.2921e-01,  8.2502e-01, -2.0922e-02,  2.5585e+00, -2.8522e+00,\n",
       "         -1.7317e-01, -1.0011e+00,  1.4737e+00, -8.1942e-02, -5.8480e-02,\n",
       "          2.9169e-01,  3.2847e-01, -4.5624e-01,  1.2790e+00,  1.7651e+00,\n",
       "         -4.3105e-01,  2.0596e-01, -6.5478e-01, -1.2452e-01, -5.4103e-01,\n",
       "          6.5762e-01,  3.2093e-01, -1.4941e+00,  1.1274e+00,  1.0298e+00,\n",
       "          1.7705e+00,  1.1532e-01, -4.6549e-01, -1.7822e+00, -8.3500e-01,\n",
       "         -1.2891e+00, -1.4997e-01, -6.7346e-01,  6.1246e-01,  8.5234e-01,\n",
       "          2.7625e-01,  4.3821e-01,  4.7392e-02,  2.0385e+00,  9.6421e-01,\n",
       "          7.5815e-01,  3.0209e-03,  5.9780e-01, -3.5547e-01, -3.2352e-02,\n",
       "          8.2772e-01, -3.3748e+00, -2.8616e+00,  5.8491e-01, -1.4227e+00,\n",
       "         -8.8369e-01, -1.2733e+00,  3.5985e-01, -9.4979e-01, -3.3927e-01,\n",
       "         -1.1432e+00, -1.5018e+00, -9.9673e-02, -2.3511e-01,  1.7655e-01,\n",
       "         -6.9898e-01,  3.2817e-01, -3.2620e-01, -7.7887e-01,  1.3028e+00,\n",
       "          4.0630e-01, -1.7096e+00,  5.0009e-01, -7.0119e-01, -8.7870e-01,\n",
       "         -4.9723e-01, -1.7057e+00, -6.0057e-01, -1.2349e+00, -1.8008e+00,\n",
       "         -2.2757e+00,  1.2466e+00,  6.5472e-01,  1.6661e+00,  4.3792e-01,\n",
       "          1.3997e+00,  1.0327e+00,  9.8766e-01, -4.2218e-01, -1.4782e+00,\n",
       "          5.6974e-02, -2.7543e-01, -3.1895e-01, -1.2675e+00, -1.8423e+00,\n",
       "          1.4088e+00, -3.5852e-01, -3.4940e-01,  3.4258e-01, -1.2574e+00,\n",
       "         -1.0528e+00,  7.7332e-01, -3.3030e-01, -4.0930e-01,  1.4081e+00],\n",
       "        [-6.0710e-01, -6.8607e-02, -1.7206e+00,  2.1891e-01,  1.4033e+00,\n",
       "          2.0774e+00, -1.3900e-01,  1.0396e+00, -1.9651e+00, -3.8284e-01,\n",
       "          3.3256e+00, -4.2709e-02, -2.1410e+00, -7.7046e-01, -8.5747e-01,\n",
       "         -2.5113e-01,  6.1571e-02,  6.5521e-01,  1.9317e+00, -5.2963e-01,\n",
       "          6.6427e-01, -1.8398e-01, -1.2718e+00, -5.3608e-01, -2.7615e-01,\n",
       "         -7.0608e-01,  1.7434e+00, -1.3075e+00, -1.8783e-01,  1.0168e-01,\n",
       "         -1.4740e-01, -1.4416e+00,  5.7875e-01, -1.9956e+00, -1.9657e+00,\n",
       "          6.0370e-01, -8.9601e-01, -4.7697e-01, -2.1440e-01,  9.0852e-01,\n",
       "          7.6414e-01,  6.8807e-01, -8.1958e-01,  7.9760e-01,  1.7327e+00,\n",
       "          6.2397e-01,  9.6315e-01, -7.0263e-01,  3.5864e-01,  1.5629e+00,\n",
       "         -1.4804e+00, -7.4382e-02, -7.7845e-01, -2.5696e-01,  1.2388e+00,\n",
       "          9.2960e-01, -1.5247e+00, -9.2291e-01, -3.0127e-01,  2.8193e-01,\n",
       "         -7.1419e-01, -1.2025e+00,  1.7927e+00, -9.4246e-01, -6.6267e-01,\n",
       "         -4.0854e-01,  1.1011e+00,  2.6402e-01,  1.2884e+00,  1.0036e-01,\n",
       "         -1.7999e+00,  6.7615e-01, -4.7419e-01, -4.9492e-01, -2.6540e-01,\n",
       "          3.1782e-01, -1.3159e+00, -2.2850e-03,  9.4896e-01,  3.6563e-01,\n",
       "         -2.4420e-01, -1.7370e+00, -1.1976e-01,  4.0412e-01,  1.9965e-01,\n",
       "         -4.4158e-01, -2.9165e-01, -1.1263e+00, -5.1643e-01,  2.5872e-01,\n",
       "         -3.3809e-02,  3.8629e-01,  4.1254e-01,  5.4540e-02, -1.0105e+00,\n",
       "          2.5703e-01,  2.5631e-01, -1.0510e-01,  2.0551e+00,  1.3525e+00]])"
      ]
     },
     "execution_count": 25,
     "metadata": {},
     "output_type": "execute_result"
    }
   ],
   "source": [
    "rff_kern.randn_weights"
   ]
  },
  {
   "cell_type": "code",
   "execution_count": null,
   "metadata": {},
   "outputs": [
    {
     "data": {
      "text/plain": [
       "tensor([[ 0.8823,  0.9995,  0.5702,  ...,  0.8293, -0.1048, -0.6455],\n",
       "        [ 0.9987,  0.9639,  0.8817,  ...,  0.7939, -0.1016, -0.9940],\n",
       "        [ 0.2280,  0.8070,  0.0270,  ...,  0.1621,  0.8739,  0.9435],\n",
       "        ...,\n",
       "        [ 0.6940,  0.9575, -0.5922,  ...,  0.5194,  0.6910,  0.8278],\n",
       "        [ 0.8500,  0.9587,  0.3438,  ...,  0.7805,  0.4111, -0.8652],\n",
       "        [ 0.8905,  0.7230,  0.1789,  ...,  0.7824,  0.8146, -1.0000]],\n",
       "       grad_fn=<CatBackward0>)"
      ]
     },
     "execution_count": 26,
     "metadata": {},
     "output_type": "execute_result"
    }
   ],
   "source": []
  },
  {
   "cell_type": "code",
   "execution_count": null,
   "metadata": {},
   "outputs": [
    {
     "data": {
      "text/plain": [
       "tensor([[2.8582, 4.9364, 7.4408, 5.1592, 9.7929, 0.5546, 3.4376, 3.7624, 4.6668,\n",
       "         6.2100],\n",
       "        [4.9619, 2.1273, 5.0964, 6.9147, 5.7123, 8.6324, 8.8892, 0.1648, 5.7329,\n",
       "         4.6089],\n",
       "        [9.1952, 2.9297, 5.4387, 1.2132, 2.5941, 5.2260, 2.9472, 6.7427, 5.1850,\n",
       "         1.4823],\n",
       "        [8.3799, 1.3255, 6.1506, 6.2782, 2.0168, 2.7216, 2.5520, 6.7425, 4.4122,\n",
       "         9.0572],\n",
       "        [7.6275, 4.0959, 8.0713, 6.7428, 0.7687, 8.9614, 1.0005, 0.9290, 4.0364,\n",
       "         2.7566],\n",
       "        [8.4886, 3.1996, 6.0171, 8.7848, 0.2905, 3.7367, 4.2361, 1.7486, 5.1334,\n",
       "         3.3301],\n",
       "        [4.3847, 7.5017, 8.1152, 4.1647, 9.6068, 8.9067, 4.7099, 2.2874, 3.8008,\n",
       "         6.8985],\n",
       "        [2.6113, 0.9919, 6.9231, 9.6363, 0.9814, 0.4806, 8.6072, 3.0395, 4.0123,\n",
       "         2.7946],\n",
       "        [1.0384, 6.0215, 8.3417, 3.4070, 6.9414, 2.8363, 6.5127, 0.3669, 5.8251,\n",
       "         0.5035],\n",
       "        [2.6367, 6.1559, 9.4365, 4.9676, 2.7741, 3.9813, 9.9888, 5.7911, 9.2342,\n",
       "         5.3412]])"
      ]
     },
     "execution_count": 38,
     "metadata": {},
     "output_type": "execute_result"
    }
   ],
   "source": [
    "torch.FloatTensor(10, 10).uniform_(0, 10)"
   ]
  },
  {
   "cell_type": "code",
   "execution_count": null,
   "metadata": {},
   "outputs": [],
   "source": [
    "torch.rand"
   ]
  },
  {
   "cell_type": "code",
   "execution_count": null,
   "metadata": {},
   "outputs": [],
   "source": [
    "X_range = (-1,1)\n",
    "d=2\n",
    "N_eval_points=1\n",
    "train_data=None\n",
    "likelihood=None\n",
    "scale=1"
   ]
  },
  {
   "cell_type": "code",
   "execution_count": null,
   "metadata": {},
   "outputs": [],
   "source": [
    "start_range = [X_range[0]]*d\n",
    "end_range = [X_range[1]]*d\n",
    "X_eval = multidim_linspace(start_range, end_range, N_eval_points)"
   ]
  },
  {
   "cell_type": "code",
   "execution_count": null,
   "metadata": {},
   "outputs": [
    {
     "data": {
      "text/plain": [
       "tensor([-0.6815, -0.6497, -0.6178,  ..., -0.3470, -0.3634, -0.3772])"
      ]
     },
     "execution_count": 16,
     "metadata": {},
     "output_type": "execute_result"
    }
   ],
   "source": [
    "Y_eval = get_gp_samples(X_eval.reshape(d,-1).T,dimx=d,kernel=\"RFF\",num_samples_RFF=20)"
   ]
  },
  {
   "cell_type": "code",
   "execution_count": null,
   "metadata": {},
   "outputs": [
    {
     "name": "stderr",
     "output_type": "stream",
     "text": [
      "/Users/jake/Python/Obs_and_exp_data/.conda/lib/python3.11/site-packages/linear_operator/utils/cholesky.py:40: NumericalWarning: A not p.d., added jitter of 1.0e-06 to the diagonal\n",
      "  warnings.warn(\n",
      "/Users/jake/Python/Obs_and_exp_data/.conda/lib/python3.11/site-packages/linear_operator/utils/cholesky.py:40: NumericalWarning: A not p.d., added jitter of 1.0e-05 to the diagonal\n",
      "  warnings.warn(\n"
     ]
    }
   ],
   "source": [
    "X_eval = torch.linspace(X_range[0],X_range[1],steps=N_eval_points)\n",
    "Y_eval = get_gp_samples(X_eval,train_data=train_data,likelihood=likelihood)\n",
    "def GP(X):\n",
    "    a = ((N_eval_points-1)*(X-X_range[0])/(X_range[1]-X_range[0])).int()\n",
    "    return scale*Y_eval[a]"
   ]
  },
  {
   "cell_type": "code",
   "execution_count": null,
   "metadata": {},
   "outputs": [],
   "source": [
    "kern = gpytorch.kernels.RFFKernel(num_samples=100,num_dims=dimx)"
   ]
  },
  {
   "cell_type": "code",
   "execution_count": null,
   "metadata": {},
   "outputs": [
    {
     "data": {
      "text/plain": [
       "torch.Size([1, 100])"
      ]
     },
     "execution_count": 20,
     "metadata": {},
     "output_type": "execute_result"
    }
   ],
   "source": [
    "kern.randn_weights.shape"
   ]
  }
 ],
 "metadata": {
  "kernelspec": {
   "display_name": "Python 3",
   "language": "python",
   "name": "python3"
  },
  "language_info": {
   "codemirror_mode": {
    "name": "ipython",
    "version": 3
   },
   "file_extension": ".py",
   "mimetype": "text/x-python",
   "name": "python",
   "nbconvert_exporter": "python",
   "pygments_lexer": "ipython3",
   "version": "3.11.9"
  }
 },
 "nbformat": 4,
 "nbformat_minor": 2
}
